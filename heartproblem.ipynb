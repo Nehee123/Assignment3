{
 "cells": [
  {
   "cell_type": "code",
   "execution_count": 1,
   "metadata": {},
   "outputs": [],
   "source": [
    "\n",
    "import numpy as np \n",
    "import pandas as pd \n",
    "import seaborn as sns\n",
    "from collections import Counter\n",
    "import matplotlib.pyplot as plt\n"
   ]
  },
  {
   "cell_type": "markdown",
   "metadata": {
    "papermill": {
     "duration": 0.058942,
     "end_time": "2020-12-21T08:08:51.066986",
     "exception": false,
     "start_time": "2020-12-21T08:08:51.008044",
     "status": "completed"
    },
    "tags": []
   },
   "source": [
    "<a id = \"1\"></a><br>\n",
    "# Load and check data"
   ]
  },
  {
   "cell_type": "code",
   "execution_count": 2,
   "metadata": {
    "execution": {
     "iopub.execute_input": "2020-12-21T08:08:51.179374Z",
     "iopub.status.busy": "2020-12-21T08:08:51.178596Z",
     "iopub.status.idle": "2020-12-21T08:08:51.190966Z",
     "shell.execute_reply": "2020-12-21T08:08:51.190289Z"
    },
    "papermill": {
     "duration": 0.070928,
     "end_time": "2020-12-21T08:08:51.191084",
     "exception": false,
     "start_time": "2020-12-21T08:08:51.120156",
     "status": "completed"
    },
    "tags": []
   },
   "outputs": [],
   "source": [
    "data=pd.read_csv('C:/Users/admin/Desktop/neha project/Assignment/HeartDisease.csv')"
   ]
  },
  {
   "cell_type": "code",
   "execution_count": 3,
   "metadata": {
    "_cell_guid": "79c7e3d0-c299-4dcb-8224-4455121ee9b0",
    "_uuid": "d629ff2d2480ee46fbb7e2d37f6b5fab8052498a",
    "execution": {
     "iopub.execute_input": "2020-12-21T08:08:51.304820Z",
     "iopub.status.busy": "2020-12-21T08:08:51.304111Z",
     "iopub.status.idle": "2020-12-21T08:08:51.308330Z",
     "shell.execute_reply": "2020-12-21T08:08:51.308859Z"
    },
    "papermill": {
     "duration": 0.064391,
     "end_time": "2020-12-21T08:08:51.309010",
     "exception": false,
     "start_time": "2020-12-21T08:08:51.244619",
     "status": "completed"
    },
    "tags": []
   },
   "outputs": [
    {
     "data": {
      "text/plain": [
       "Index(['age', 'sex', 'cp', 'trestbps', 'chol', 'fbs', 'restecg', 'thalach',\n",
       "       'exang', 'oldpeak', 'slope', 'ca', 'thal', 'num'],\n",
       "      dtype='object')"
      ]
     },
     "execution_count": 3,
     "metadata": {},
     "output_type": "execute_result"
    }
   ],
   "source": [
    "data.columns"
   ]
  },
  {
   "cell_type": "code",
   "execution_count": null,
   "metadata": {
    "execution": {
     "iopub.execute_input": "2020-12-21T08:08:51.423625Z",
     "iopub.status.busy": "2020-12-21T08:08:51.422874Z",
     "iopub.status.idle": "2020-12-21T08:08:51.444948Z",
     "shell.execute_reply": "2020-12-21T08:08:51.444391Z"
    },
    "papermill": {
     "duration": 0.083463,
     "end_time": "2020-12-21T08:08:51.445073",
     "exception": false,
     "start_time": "2020-12-21T08:08:51.361610",
     "status": "completed"
    },
    "tags": []
   },
   "outputs": [],
   "source": [
    "data = data.replace('?',0)"
   ]
  },
  {
   "cell_type": "code",
   "execution_count": 4,
   "metadata": {
    "execution": {
     "iopub.execute_input": "2020-12-21T08:08:51.565040Z",
     "iopub.status.busy": "2020-12-21T08:08:51.563934Z",
     "iopub.status.idle": "2020-12-21T08:08:51.614108Z",
     "shell.execute_reply": "2020-12-21T08:08:51.614637Z"
    },
    "papermill": {
     "duration": 0.115012,
     "end_time": "2020-12-21T08:08:51.614794",
     "exception": false,
     "start_time": "2020-12-21T08:08:51.499782",
     "status": "completed"
    },
    "tags": []
   },
   "outputs": [
    {
     "data": {
      "text/html": [
       "<div>\n",
       "<style scoped>\n",
       "    .dataframe tbody tr th:only-of-type {\n",
       "        vertical-align: middle;\n",
       "    }\n",
       "\n",
       "    .dataframe tbody tr th {\n",
       "        vertical-align: top;\n",
       "    }\n",
       "\n",
       "    .dataframe thead th {\n",
       "        text-align: right;\n",
       "    }\n",
       "</style>\n",
       "<table border=\"1\" class=\"dataframe\">\n",
       "  <thead>\n",
       "    <tr style=\"text-align: right;\">\n",
       "      <th></th>\n",
       "      <th>age</th>\n",
       "      <th>sex</th>\n",
       "      <th>cp</th>\n",
       "      <th>restecg</th>\n",
       "      <th>num</th>\n",
       "    </tr>\n",
       "  </thead>\n",
       "  <tbody>\n",
       "    <tr>\n",
       "      <th>count</th>\n",
       "      <td>200.000000</td>\n",
       "      <td>200.000000</td>\n",
       "      <td>200.000000</td>\n",
       "      <td>200.000000</td>\n",
       "      <td>200.000000</td>\n",
       "    </tr>\n",
       "    <tr>\n",
       "      <th>mean</th>\n",
       "      <td>59.350000</td>\n",
       "      <td>0.970000</td>\n",
       "      <td>3.505000</td>\n",
       "      <td>0.735000</td>\n",
       "      <td>1.520000</td>\n",
       "    </tr>\n",
       "    <tr>\n",
       "      <th>std</th>\n",
       "      <td>7.811697</td>\n",
       "      <td>0.171015</td>\n",
       "      <td>0.795701</td>\n",
       "      <td>0.683455</td>\n",
       "      <td>1.219441</td>\n",
       "    </tr>\n",
       "    <tr>\n",
       "      <th>min</th>\n",
       "      <td>35.000000</td>\n",
       "      <td>0.000000</td>\n",
       "      <td>1.000000</td>\n",
       "      <td>0.000000</td>\n",
       "      <td>0.000000</td>\n",
       "    </tr>\n",
       "    <tr>\n",
       "      <th>25%</th>\n",
       "      <td>55.000000</td>\n",
       "      <td>1.000000</td>\n",
       "      <td>3.000000</td>\n",
       "      <td>0.000000</td>\n",
       "      <td>0.000000</td>\n",
       "    </tr>\n",
       "    <tr>\n",
       "      <th>50%</th>\n",
       "      <td>60.000000</td>\n",
       "      <td>1.000000</td>\n",
       "      <td>4.000000</td>\n",
       "      <td>1.000000</td>\n",
       "      <td>1.000000</td>\n",
       "    </tr>\n",
       "    <tr>\n",
       "      <th>75%</th>\n",
       "      <td>64.000000</td>\n",
       "      <td>1.000000</td>\n",
       "      <td>4.000000</td>\n",
       "      <td>1.000000</td>\n",
       "      <td>3.000000</td>\n",
       "    </tr>\n",
       "    <tr>\n",
       "      <th>max</th>\n",
       "      <td>77.000000</td>\n",
       "      <td>1.000000</td>\n",
       "      <td>4.000000</td>\n",
       "      <td>2.000000</td>\n",
       "      <td>4.000000</td>\n",
       "    </tr>\n",
       "  </tbody>\n",
       "</table>\n",
       "</div>"
      ],
      "text/plain": [
       "              age         sex          cp     restecg         num\n",
       "count  200.000000  200.000000  200.000000  200.000000  200.000000\n",
       "mean    59.350000    0.970000    3.505000    0.735000    1.520000\n",
       "std      7.811697    0.171015    0.795701    0.683455    1.219441\n",
       "min     35.000000    0.000000    1.000000    0.000000    0.000000\n",
       "25%     55.000000    1.000000    3.000000    0.000000    0.000000\n",
       "50%     60.000000    1.000000    4.000000    1.000000    1.000000\n",
       "75%     64.000000    1.000000    4.000000    1.000000    3.000000\n",
       "max     77.000000    1.000000    4.000000    2.000000    4.000000"
      ]
     },
     "execution_count": 4,
     "metadata": {},
     "output_type": "execute_result"
    }
   ],
   "source": [
    "data.describe()"
   ]
  },
  {
   "cell_type": "code",
   "execution_count": 5,
   "metadata": {
    "execution": {
     "iopub.execute_input": "2020-12-21T08:08:51.734432Z",
     "iopub.status.busy": "2020-12-21T08:08:51.733732Z",
     "iopub.status.idle": "2020-12-21T08:08:52.722895Z",
     "shell.execute_reply": "2020-12-21T08:08:52.722367Z"
    },
    "papermill": {
     "duration": 1.051911,
     "end_time": "2020-12-21T08:08:52.723013",
     "exception": false,
     "start_time": "2020-12-21T08:08:51.671102",
     "status": "completed"
    },
    "tags": []
   },
   "outputs": [
    {
     "data": {
      "text/plain": [
       "<AxesSubplot:>"
      ]
     },
     "execution_count": 5,
     "metadata": {},
     "output_type": "execute_result"
    },
    {
     "data": {
      "image/png": "[encoded data removed]",
      "text/plain": [
       "<Figure size 936x936 with 2 Axes>"
      ]
     },
     "metadata": {
      "needs_background": "light"
     },
     "output_type": "display_data"
    }
   ],
   "source": [
    "\n",
    "fig, ax = plt.subplots(figsize=(13,13))         # Sample figsize in inches\n",
    "sns.heatmap(data.corr(), annot=True, linewidths=.5, ax=ax)"
   ]
  },
  {
   "cell_type": "markdown",
   "metadata": {
    "papermill": {
     "duration": 0.057754,
     "end_time": "2020-12-21T08:08:52.959465",
     "exception": false,
     "start_time": "2020-12-21T08:08:52.901711",
     "status": "completed"
    },
    "tags": []
   },
   "source": [
    "<a id = \"4\"></b><br>\n",
    "## Categorical Variable "
   ]
  },
  {
   "cell_type": "code",
   "execution_count": 6,
   "metadata": {
    "execution": {
     "iopub.execute_input": "2020-12-21T08:08:53.095585Z",
     "iopub.status.busy": "2020-12-21T08:08:53.094706Z",
     "iopub.status.idle": "2020-12-21T08:08:53.098024Z",
     "shell.execute_reply": "2020-12-21T08:08:53.097030Z"
    },
    "papermill": {
     "duration": 0.079637,
     "end_time": "2020-12-21T08:08:53.098184",
     "exception": false,
     "start_time": "2020-12-21T08:08:53.018547",
     "status": "completed"
    },
    "tags": []
   },
   "outputs": [],
   "source": [
    "import matplotlib.pyplot as plt"
   ]
  },
  {
   "cell_type": "code",
   "execution_count": 7,
   "metadata": {
    "execution": {
     "iopub.execute_input": "2020-12-21T08:08:53.251617Z",
     "iopub.status.busy": "2020-12-21T08:08:53.250859Z",
     "iopub.status.idle": "2020-12-21T08:08:53.254848Z",
     "shell.execute_reply": "2020-12-21T08:08:53.254273Z"
    },
    "papermill": {
     "duration": 0.085992,
     "end_time": "2020-12-21T08:08:53.254963",
     "exception": false,
     "start_time": "2020-12-21T08:08:53.168971",
     "status": "completed"
    },
    "tags": []
   },
   "outputs": [],
   "source": [
    "def bar_plot(variable):\n",
    "    var =data[variable]\n",
    "    varValue = var.value_counts()\n",
    "    plt.figure(figsize=(9,3))\n",
    "    plt.bar(varValue.index, varValue)\n",
    "    plt.xticks(varValue.index, varValue.index.values)\n",
    "    plt.ylabel(\"Frequency\")\n",
    "    plt.title(variable)\n",
    "    \n",
    "    plt.show()\n",
    "    print(\"{}: \\n {}\".format(variable,varValue))"
   ]
  },
  {
   "cell_type": "code",
   "execution_count": 8,
   "metadata": {
    "execution": {
     "iopub.execute_input": "2020-12-21T08:08:53.385623Z",
     "iopub.status.busy": "2020-12-21T08:08:53.379832Z",
     "iopub.status.idle": "2020-12-21T08:08:54.546152Z",
     "shell.execute_reply": "2020-12-21T08:08:54.545032Z"
    },
    "papermill": {
     "duration": 1.231312,
     "end_time": "2020-12-21T08:08:54.546377",
     "exception": false,
     "start_time": "2020-12-21T08:08:53.315065",
     "status": "completed"
    },
    "tags": []
   },
   "outputs": [
    {
     "data": {
      "image/png": "[encoded data removed]",
      "text/plain": [
       "<Figure size 648x216 with 1 Axes>"
      ]
     },
     "metadata": {
      "needs_background": "light"
     },
     "output_type": "display_data"
    },
    {
     "name": "stdout",
     "output_type": "stream",
     "text": [
      "sex: \n",
      " 1    194\n",
      "0      6\n",
      "Name: sex, dtype: int64\n"
     ]
    },
    {
     "data": {
      "image/png": "[encoded data removed]",
      "text/plain": [
       "<Figure size 648x216 with 1 Axes>"
      ]
     },
     "metadata": {
      "needs_background": "light"
     },
     "output_type": "display_data"
    },
    {
     "name": "stdout",
     "output_type": "stream",
     "text": [
      "cp: \n",
      " 4    131\n",
      "3     47\n",
      "2     14\n",
      "1      8\n",
      "Name: cp, dtype: int64\n"
     ]
    },
    {
     "data": {
      "image/png": "[encoded data removed]",
      "text/plain": [
       "<Figure size 648x216 with 1 Axes>"
      ]
     },
     "metadata": {
      "needs_background": "light"
     },
     "output_type": "display_data"
    },
    {
     "name": "stdout",
     "output_type": "stream",
     "text": [
      "fbs: \n",
      " 0    125\n",
      "1     68\n",
      "?      7\n",
      "Name: fbs, dtype: int64\n"
     ]
    },
    {
     "data": {
      "image/png": "[encoded data removed]",
      "text/plain": [
       "<Figure size 648x216 with 1 Axes>"
      ]
     },
     "metadata": {
      "needs_background": "light"
     },
     "output_type": "display_data"
    },
    {
     "name": "stdout",
     "output_type": "stream",
     "text": [
      "restecg: \n",
      " 1    93\n",
      "0    80\n",
      "2    27\n",
      "Name: restecg, dtype: int64\n"
     ]
    },
    {
     "data": {
      "image/png": "[encoded data removed]",
      "text/plain": [
       "<Figure size 648x216 with 1 Axes>"
      ]
     },
     "metadata": {
      "needs_background": "light"
     },
     "output_type": "display_data"
    },
    {
     "name": "stdout",
     "output_type": "stream",
     "text": [
      "exang: \n",
      " 1    95\n",
      "?    53\n",
      "0    52\n",
      "Name: exang, dtype: int64\n"
     ]
    },
    {
     "data": {
      "image/png": "[encoded data removed]",
      "text/plain": [
       "<Figure size 648x216 with 1 Axes>"
      ]
     },
     "metadata": {
      "needs_background": "light"
     },
     "output_type": "display_data"
    },
    {
     "name": "stdout",
     "output_type": "stream",
     "text": [
      "slope: \n",
      " ?    102\n",
      "2     53\n",
      "3     29\n",
      "1     16\n",
      "Name: slope, dtype: int64\n"
     ]
    },
    {
     "data": {
      "image/png": "[encoded data removed]",
      "text/plain": [
       "<Figure size 648x216 with 1 Axes>"
      ]
     },
     "metadata": {
      "needs_background": "light"
     },
     "output_type": "display_data"
    },
    {
     "name": "stdout",
     "output_type": "stream",
     "text": [
      "ca: \n",
      " ?    198\n",
      "0      2\n",
      "Name: ca, dtype: int64\n"
     ]
    },
    {
     "data": {
      "image/png": "[encoded data removed]",
      "text/plain": [
       "<Figure size 648x216 with 1 Axes>"
      ]
     },
     "metadata": {
      "needs_background": "light"
     },
     "output_type": "display_data"
    },
    {
     "name": "stdout",
     "output_type": "stream",
     "text": [
      "thal: \n",
      " ?    166\n",
      "7     22\n",
      "6      8\n",
      "3      4\n",
      "Name: thal, dtype: int64\n"
     ]
    },
    {
     "ename": "KeyError",
     "evalue": "'target'",
     "output_type": "error",
     "traceback": [
      "\u001b[1;31m---------------------------------------------------------------------------\u001b[0m",
      "\u001b[1;31mKeyError\u001b[0m                                  Traceback (most recent call last)",
      "\u001b[1;32mC:\\ProgramData\\Anaconda3\\lib\\site-packages\\pandas\\core\\indexes\\base.py\u001b[0m in \u001b[0;36mget_loc\u001b[1;34m(self, key, method, tolerance)\u001b[0m\n\u001b[0;32m   2894\u001b[0m             \u001b[1;32mtry\u001b[0m\u001b[1;33m:\u001b[0m\u001b[1;33m\u001b[0m\u001b[1;33m\u001b[0m\u001b[0m\n\u001b[1;32m-> 2895\u001b[1;33m                 \u001b[1;32mreturn\u001b[0m \u001b[0mself\u001b[0m\u001b[1;33m.\u001b[0m\u001b[0m_engine\u001b[0m\u001b[1;33m.\u001b[0m\u001b[0mget_loc\u001b[0m\u001b[1;33m(\u001b[0m\u001b[0mcasted_key\u001b[0m\u001b[1;33m)\u001b[0m\u001b[1;33m\u001b[0m\u001b[1;33m\u001b[0m\u001b[0m\n\u001b[0m\u001b[0;32m   2896\u001b[0m             \u001b[1;32mexcept\u001b[0m \u001b[0mKeyError\u001b[0m \u001b[1;32mas\u001b[0m \u001b[0merr\u001b[0m\u001b[1;33m:\u001b[0m\u001b[1;33m\u001b[0m\u001b[1;33m\u001b[0m\u001b[0m\n",
      "\u001b[1;32mpandas\\_libs\\index.pyx\u001b[0m in \u001b[0;36mpandas._libs.index.IndexEngine.get_loc\u001b[1;34m()\u001b[0m\n",
      "\u001b[1;32mpandas\\_libs\\index.pyx\u001b[0m in \u001b[0;36mpandas._libs.index.IndexEngine.get_loc\u001b[1;34m()\u001b[0m\n",
      "\u001b[1;32mpandas\\_libs\\hashtable_class_helper.pxi\u001b[0m in \u001b[0;36mpandas._libs.hashtable.PyObjectHashTable.get_item\u001b[1;34m()\u001b[0m\n",
      "\u001b[1;32mpandas\\_libs\\hashtable_class_helper.pxi\u001b[0m in \u001b[0;36mpandas._libs.hashtable.PyObjectHashTable.get_item\u001b[1;34m()\u001b[0m\n",
      "\u001b[1;31mKeyError\u001b[0m: 'target'",
      "\nThe above exception was the direct cause of the following exception:\n",
      "\u001b[1;31mKeyError\u001b[0m                                  Traceback (most recent call last)",
      "\u001b[1;32m<ipython-input-8-2e494c89a557>\u001b[0m in \u001b[0;36m<module>\u001b[1;34m\u001b[0m\n\u001b[0;32m      1\u001b[0m \u001b[0mcategory1\u001b[0m \u001b[1;33m=\u001b[0m \u001b[1;33m[\u001b[0m\u001b[1;34m\"sex\"\u001b[0m\u001b[1;33m,\u001b[0m \u001b[1;34m\"cp\"\u001b[0m\u001b[1;33m,\u001b[0m \u001b[1;34m\"fbs\"\u001b[0m\u001b[1;33m,\u001b[0m \u001b[1;34m\"restecg\"\u001b[0m\u001b[1;33m,\u001b[0m \u001b[1;34m\"exang\"\u001b[0m\u001b[1;33m,\u001b[0m \u001b[1;34m\"slope\"\u001b[0m\u001b[1;33m,\u001b[0m\u001b[1;34m\"ca\"\u001b[0m\u001b[1;33m,\u001b[0m\u001b[1;34m\"thal\"\u001b[0m\u001b[1;33m,\u001b[0m\u001b[1;34m\"target\"\u001b[0m\u001b[1;33m]\u001b[0m\u001b[1;33m\u001b[0m\u001b[1;33m\u001b[0m\u001b[0m\n\u001b[0;32m      2\u001b[0m \u001b[1;32mfor\u001b[0m \u001b[0mc\u001b[0m \u001b[1;32min\u001b[0m \u001b[0mcategory1\u001b[0m\u001b[1;33m:\u001b[0m\u001b[1;33m\u001b[0m\u001b[1;33m\u001b[0m\u001b[0m\n\u001b[1;32m----> 3\u001b[1;33m     \u001b[0mbar_plot\u001b[0m\u001b[1;33m(\u001b[0m\u001b[0mc\u001b[0m\u001b[1;33m)\u001b[0m\u001b[1;33m\u001b[0m\u001b[1;33m\u001b[0m\u001b[0m\n\u001b[0m",
      "\u001b[1;32m<ipython-input-7-d63e9862ad34>\u001b[0m in \u001b[0;36mbar_plot\u001b[1;34m(variable)\u001b[0m\n\u001b[0;32m      1\u001b[0m \u001b[1;32mdef\u001b[0m \u001b[0mbar_plot\u001b[0m\u001b[1;33m(\u001b[0m\u001b[0mvariable\u001b[0m\u001b[1;33m)\u001b[0m\u001b[1;33m:\u001b[0m\u001b[1;33m\u001b[0m\u001b[1;33m\u001b[0m\u001b[0m\n\u001b[1;32m----> 2\u001b[1;33m     \u001b[0mvar\u001b[0m \u001b[1;33m=\u001b[0m\u001b[0mdata\u001b[0m\u001b[1;33m[\u001b[0m\u001b[0mvariable\u001b[0m\u001b[1;33m]\u001b[0m\u001b[1;33m\u001b[0m\u001b[1;33m\u001b[0m\u001b[0m\n\u001b[0m\u001b[0;32m      3\u001b[0m     \u001b[0mvarValue\u001b[0m \u001b[1;33m=\u001b[0m \u001b[0mvar\u001b[0m\u001b[1;33m.\u001b[0m\u001b[0mvalue_counts\u001b[0m\u001b[1;33m(\u001b[0m\u001b[1;33m)\u001b[0m\u001b[1;33m\u001b[0m\u001b[1;33m\u001b[0m\u001b[0m\n\u001b[0;32m      4\u001b[0m     \u001b[0mplt\u001b[0m\u001b[1;33m.\u001b[0m\u001b[0mfigure\u001b[0m\u001b[1;33m(\u001b[0m\u001b[0mfigsize\u001b[0m\u001b[1;33m=\u001b[0m\u001b[1;33m(\u001b[0m\u001b[1;36m9\u001b[0m\u001b[1;33m,\u001b[0m\u001b[1;36m3\u001b[0m\u001b[1;33m)\u001b[0m\u001b[1;33m)\u001b[0m\u001b[1;33m\u001b[0m\u001b[1;33m\u001b[0m\u001b[0m\n\u001b[0;32m      5\u001b[0m     \u001b[0mplt\u001b[0m\u001b[1;33m.\u001b[0m\u001b[0mbar\u001b[0m\u001b[1;33m(\u001b[0m\u001b[0mvarValue\u001b[0m\u001b[1;33m.\u001b[0m\u001b[0mindex\u001b[0m\u001b[1;33m,\u001b[0m \u001b[0mvarValue\u001b[0m\u001b[1;33m)\u001b[0m\u001b[1;33m\u001b[0m\u001b[1;33m\u001b[0m\u001b[0m\n",
      "\u001b[1;32mC:\\ProgramData\\Anaconda3\\lib\\site-packages\\pandas\\core\\frame.py\u001b[0m in \u001b[0;36m__getitem__\u001b[1;34m(self, key)\u001b[0m\n\u001b[0;32m   2900\u001b[0m             \u001b[1;32mif\u001b[0m \u001b[0mself\u001b[0m\u001b[1;33m.\u001b[0m\u001b[0mcolumns\u001b[0m\u001b[1;33m.\u001b[0m\u001b[0mnlevels\u001b[0m \u001b[1;33m>\u001b[0m \u001b[1;36m1\u001b[0m\u001b[1;33m:\u001b[0m\u001b[1;33m\u001b[0m\u001b[1;33m\u001b[0m\u001b[0m\n\u001b[0;32m   2901\u001b[0m                 \u001b[1;32mreturn\u001b[0m \u001b[0mself\u001b[0m\u001b[1;33m.\u001b[0m\u001b[0m_getitem_multilevel\u001b[0m\u001b[1;33m(\u001b[0m\u001b[0mkey\u001b[0m\u001b[1;33m)\u001b[0m\u001b[1;33m\u001b[0m\u001b[1;33m\u001b[0m\u001b[0m\n\u001b[1;32m-> 2902\u001b[1;33m             \u001b[0mindexer\u001b[0m \u001b[1;33m=\u001b[0m \u001b[0mself\u001b[0m\u001b[1;33m.\u001b[0m\u001b[0mcolumns\u001b[0m\u001b[1;33m.\u001b[0m\u001b[0mget_loc\u001b[0m\u001b[1;33m(\u001b[0m\u001b[0mkey\u001b[0m\u001b[1;33m)\u001b[0m\u001b[1;33m\u001b[0m\u001b[1;33m\u001b[0m\u001b[0m\n\u001b[0m\u001b[0;32m   2903\u001b[0m             \u001b[1;32mif\u001b[0m \u001b[0mis_integer\u001b[0m\u001b[1;33m(\u001b[0m\u001b[0mindexer\u001b[0m\u001b[1;33m)\u001b[0m\u001b[1;33m:\u001b[0m\u001b[1;33m\u001b[0m\u001b[1;33m\u001b[0m\u001b[0m\n\u001b[0;32m   2904\u001b[0m                 \u001b[0mindexer\u001b[0m \u001b[1;33m=\u001b[0m \u001b[1;33m[\u001b[0m\u001b[0mindexer\u001b[0m\u001b[1;33m]\u001b[0m\u001b[1;33m\u001b[0m\u001b[1;33m\u001b[0m\u001b[0m\n",
      "\u001b[1;32mC:\\ProgramData\\Anaconda3\\lib\\site-packages\\pandas\\core\\indexes\\base.py\u001b[0m in \u001b[0;36mget_loc\u001b[1;34m(self, key, method, tolerance)\u001b[0m\n\u001b[0;32m   2895\u001b[0m                 \u001b[1;32mreturn\u001b[0m \u001b[0mself\u001b[0m\u001b[1;33m.\u001b[0m\u001b[0m_engine\u001b[0m\u001b[1;33m.\u001b[0m\u001b[0mget_loc\u001b[0m\u001b[1;33m(\u001b[0m\u001b[0mcasted_key\u001b[0m\u001b[1;33m)\u001b[0m\u001b[1;33m\u001b[0m\u001b[1;33m\u001b[0m\u001b[0m\n\u001b[0;32m   2896\u001b[0m             \u001b[1;32mexcept\u001b[0m \u001b[0mKeyError\u001b[0m \u001b[1;32mas\u001b[0m \u001b[0merr\u001b[0m\u001b[1;33m:\u001b[0m\u001b[1;33m\u001b[0m\u001b[1;33m\u001b[0m\u001b[0m\n\u001b[1;32m-> 2897\u001b[1;33m                 \u001b[1;32mraise\u001b[0m \u001b[0mKeyError\u001b[0m\u001b[1;33m(\u001b[0m\u001b[0mkey\u001b[0m\u001b[1;33m)\u001b[0m \u001b[1;32mfrom\u001b[0m \u001b[0merr\u001b[0m\u001b[1;33m\u001b[0m\u001b[1;33m\u001b[0m\u001b[0m\n\u001b[0m\u001b[0;32m   2898\u001b[0m \u001b[1;33m\u001b[0m\u001b[0m\n\u001b[0;32m   2899\u001b[0m         \u001b[1;32mif\u001b[0m \u001b[0mtolerance\u001b[0m \u001b[1;32mis\u001b[0m \u001b[1;32mnot\u001b[0m \u001b[1;32mNone\u001b[0m\u001b[1;33m:\u001b[0m\u001b[1;33m\u001b[0m\u001b[1;33m\u001b[0m\u001b[0m\n",
      "\u001b[1;31mKeyError\u001b[0m: 'target'"
     ]
    }
   ],
   "source": [
    "category1 = [\"sex\", \"cp\", \"fbs\", \"restecg\", \"exang\", \"slope\",\"ca\",\"thal\",\"target\"]\n",
    "for c in category1:\n",
    "    bar_plot(c)"
   ]
  },
  {
   "cell_type": "code",
   "execution_count": null,
   "metadata": {
    "execution": {
     "iopub.execute_input": "2020-12-21T08:08:54.711101Z",
     "iopub.status.busy": "2020-12-21T08:08:54.706562Z",
     "iopub.status.idle": "2020-12-21T08:08:55.295502Z",
     "shell.execute_reply": "2020-12-21T08:08:55.294875Z"
    },
    "papermill": {
     "duration": 0.680187,
     "end_time": "2020-12-21T08:08:55.295621",
     "exception": false,
     "start_time": "2020-12-21T08:08:54.615434",
     "status": "completed"
    },
    "tags": []
   },
   "outputs": [],
   "source": [
    "pd.crosstab(data.age,data.target).plot(kind=\"bar\",figsize=(20,6),color=['#0000ff','#000000' ])\n",
    "plt.title('Heart Disease Age Distribution')\n",
    "plt.xlabel('Age')\n",
    "plt.ylabel('Frequency')\n",
    "plt.legend([\"Haven't Disease\", \"Have Disease\"])\n",
    "plt.show()\n"
   ]
  },
  {
   "cell_type": "markdown",
   "metadata": {
    "papermill": {
     "duration": 0.069096,
     "end_time": "2020-12-21T08:08:55.571327",
     "exception": false,
     "start_time": "2020-12-21T08:08:55.502231",
     "status": "completed"
    },
    "tags": []
   },
   "source": [
    "<a id = \"5\"></a><br>\n",
    "## Numerical Variable"
   ]
  },
  {
   "cell_type": "code",
   "execution_count": null,
   "metadata": {
    "execution": {
     "iopub.execute_input": "2020-12-21T08:08:55.717353Z",
     "iopub.status.busy": "2020-12-21T08:08:55.716293Z",
     "iopub.status.idle": "2020-12-21T08:08:55.720141Z",
     "shell.execute_reply": "2020-12-21T08:08:55.719605Z"
    },
    "papermill": {
     "duration": 0.079402,
     "end_time": "2020-12-21T08:08:55.720282",
     "exception": false,
     "start_time": "2020-12-21T08:08:55.640880",
     "status": "completed"
    },
    "tags": []
   },
   "outputs": [],
   "source": [
    "def plot_hist(variable):\n",
    "    plt.figure(figsize=(9,3))\n",
    "    plt.hist(data[variable], bins=40)\n",
    "    plt.xlabel(variable)\n",
    "    plt.ylabel(\"frequency\")\n",
    "    plt.title(\"{} distrubition with hist\".format(variable))\n",
    "    plt.show()"
   ]
  },
  {
   "cell_type": "code",
   "execution_count": null,
   "metadata": {
    "execution": {
     "iopub.execute_input": "2020-12-21T08:08:55.876426Z",
     "iopub.status.busy": "2020-12-21T08:08:55.875311Z",
     "iopub.status.idle": "2020-12-21T08:08:57.076334Z",
     "shell.execute_reply": "2020-12-21T08:08:57.075724Z"
    },
    "papermill": {
     "duration": 1.285658,
     "end_time": "2020-12-21T08:08:57.076512",
     "exception": false,
     "start_time": "2020-12-21T08:08:55.790854",
     "status": "completed"
    },
    "tags": []
   },
   "outputs": [],
   "source": [
    "numericVar = [\"age\",\"trestbps\",\"chol\",\"thalach\",\"oldpeak\"]\n",
    "for n in numericVar:\n",
    "    plot_hist(n)"
   ]
  },
  {
   "cell_type": "code",
   "execution_count": null,
   "metadata": {
    "execution": {
     "iopub.execute_input": "2020-12-21T08:08:57.525673Z",
     "iopub.status.busy": "2020-12-21T08:08:57.515304Z",
     "iopub.status.idle": "2020-12-21T08:08:57.532131Z",
     "shell.execute_reply": "2020-12-21T08:08:57.531473Z"
    },
    "papermill": {
     "duration": 0.096156,
     "end_time": "2020-12-21T08:08:57.532264",
     "exception": false,
     "start_time": "2020-12-21T08:08:57.436108",
     "status": "completed"
    },
    "tags": []
   },
   "outputs": [],
   "source": [
    "# cp vs target\n",
    "data[[\"cp\",\"target\"]].groupby([\"cp\"], as_index = False).mean().sort_values(by=\"target\",ascending = False)"
   ]
  },
  {
   "cell_type": "code",
   "execution_count": null,
   "metadata": {
    "execution": {
     "iopub.execute_input": "2020-12-21T08:08:57.692409Z",
     "iopub.status.busy": "2020-12-21T08:08:57.686952Z",
     "iopub.status.idle": "2020-12-21T08:08:57.696898Z",
     "shell.execute_reply": "2020-12-21T08:08:57.696241Z"
    },
    "papermill": {
     "duration": 0.0917,
     "end_time": "2020-12-21T08:08:57.697011",
     "exception": false,
     "start_time": "2020-12-21T08:08:57.605311",
     "status": "completed"
    },
    "tags": []
   },
   "outputs": [],
   "source": [
    "# sex vs target\n",
    "data[[\"sex\",\"target\"]].groupby([\"sex\"], as_index = False).mean().sort_values(by=\"target\",ascending = False)"
   ]
  },
  {
   "cell_type": "code",
   "execution_count": null,
   "metadata": {
    "execution": {
     "iopub.execute_input": "2020-12-21T08:08:57.854604Z",
     "iopub.status.busy": "2020-12-21T08:08:57.853846Z",
     "iopub.status.idle": "2020-12-21T08:08:57.864168Z",
     "shell.execute_reply": "2020-12-21T08:08:57.863498Z"
    },
    "papermill": {
     "duration": 0.093012,
     "end_time": "2020-12-21T08:08:57.864310",
     "exception": false,
     "start_time": "2020-12-21T08:08:57.771298",
     "status": "completed"
    },
    "tags": []
   },
   "outputs": [],
   "source": [
    "# restecg vs target\n",
    "data[[\"restecg\",\"target\"]].groupby([\"restecg\"], as_index = False).mean().sort_values(by=\"target\",ascending = False)"
   ]
  },
  {
   "cell_type": "code",
   "execution_count": null,
   "metadata": {
    "execution": {
     "iopub.execute_input": "2020-12-21T08:08:58.027591Z",
     "iopub.status.busy": "2020-12-21T08:08:58.022343Z",
     "iopub.status.idle": "2020-12-21T08:08:58.032550Z",
     "shell.execute_reply": "2020-12-21T08:08:58.032015Z"
    },
    "papermill": {
     "duration": 0.094178,
     "end_time": "2020-12-21T08:08:58.032670",
     "exception": false,
     "start_time": "2020-12-21T08:08:57.938492",
     "status": "completed"
    },
    "tags": []
   },
   "outputs": [],
   "source": [
    "# exang vs target\n",
    "data[[\"exang\",\"target\"]].groupby([\"exang\"], as_index = False).mean().sort_values(by=\"target\",ascending = False)"
   ]
  },
  {
   "cell_type": "markdown",
   "metadata": {
    "papermill": {
     "duration": 0.074602,
     "end_time": "2020-12-21T08:08:58.181556",
     "exception": false,
     "start_time": "2020-12-21T08:08:58.106954",
     "status": "completed"
    },
    "tags": []
   },
   "source": [
    "<a id = \"7\"></a><br>\n",
    "# Outlier Detection"
   ]
  },
  {
   "cell_type": "code",
   "execution_count": null,
   "metadata": {
    "execution": {
     "iopub.execute_input": "2020-12-21T08:08:58.340621Z",
     "iopub.status.busy": "2020-12-21T08:08:58.339937Z",
     "iopub.status.idle": "2020-12-21T08:08:58.343345Z",
     "shell.execute_reply": "2020-12-21T08:08:58.342784Z"
    },
    "papermill": {
     "duration": 0.087935,
     "end_time": "2020-12-21T08:08:58.343466",
     "exception": false,
     "start_time": "2020-12-21T08:08:58.255531",
     "status": "completed"
    },
    "tags": []
   },
   "outputs": [],
   "source": [
    "def detect_outliers(data,features):\n",
    "    outlier_indices = []\n",
    "    for c in features:\n",
    "        # 1st quartile\n",
    "        Q1 = np.percentile(data[c],25)\n",
    "        # 3rd quartile\n",
    "        Q3 = np.percentile(data[c],75)\n",
    "        # IQR\n",
    "        IQR = Q3 - Q1\n",
    "        # Outlier step\n",
    "        outlier_step = IQR * 1.5\n",
    "        # detect outlier and their indeces\n",
    "        outlier_list_col = data[(data[c] < Q1 - outlier_step) | (data[c] > Q3 + outlier_step)].index\n",
    "        # store indeces\n",
    "        outlier_indices.extend(outlier_list_col)\n",
    "    \n",
    "    outlier_indices = Counter(outlier_indices)\n",
    "    multiple_outliers = list(i for i, v in outlier_indices.items() if v > 2)\n",
    "    \n",
    "    return multiple_outliers"
   ]
  },
  {
   "cell_type": "code",
   "execution_count": null,
   "metadata": {
    "execution": {
     "iopub.execute_input": "2020-12-21T08:08:58.499541Z",
     "iopub.status.busy": "2020-12-21T08:08:58.498821Z",
     "iopub.status.idle": "2020-12-21T08:08:58.516062Z",
     "shell.execute_reply": "2020-12-21T08:08:58.515418Z"
    },
    "papermill": {
     "duration": 0.096307,
     "end_time": "2020-12-21T08:08:58.516171",
     "exception": false,
     "start_time": "2020-12-21T08:08:58.419864",
     "status": "completed"
    },
    "tags": []
   },
   "outputs": [],
   "source": [
    "data.loc[detect_outliers(data,[\"age\",\"trestbps\",\"chol\",\"thalach\",\"oldpeak\"])]"
   ]
  },
  {
   "cell_type": "code",
   "execution_count": null,
   "metadata": {
    "execution": {
     "iopub.execute_input": "2020-12-21T08:08:58.684561Z",
     "iopub.status.busy": "2020-12-21T08:08:58.683822Z",
     "iopub.status.idle": "2020-12-21T08:08:58.688900Z",
     "shell.execute_reply": "2020-12-21T08:08:58.688192Z"
    },
    "papermill": {
     "duration": 0.097486,
     "end_time": "2020-12-21T08:08:58.689013",
     "exception": false,
     "start_time": "2020-12-21T08:08:58.591527",
     "status": "completed"
    },
    "tags": []
   },
   "outputs": [],
   "source": [
    "data.head(10)"
   ]
  },
  {
   "cell_type": "markdown",
   "metadata": {
    "papermill": {
     "duration": 0.075626,
     "end_time": "2020-12-21T08:08:58.841633",
     "exception": false,
     "start_time": "2020-12-21T08:08:58.766007",
     "status": "completed"
    },
    "tags": []
   },
   "source": [
    "<a id = \"8\"></a><br>\n",
    " # Missing Value\n",
    "* Find Missing Value\n"
   ]
  },
  {
   "cell_type": "code",
   "execution_count": null,
   "metadata": {
    "execution": {
     "iopub.execute_input": "2020-12-21T08:08:59.001835Z",
     "iopub.status.busy": "2020-12-21T08:08:59.001055Z",
     "iopub.status.idle": "2020-12-21T08:08:59.004522Z",
     "shell.execute_reply": "2020-12-21T08:08:59.003993Z"
    },
    "papermill": {
     "duration": 0.086607,
     "end_time": "2020-12-21T08:08:59.004644",
     "exception": false,
     "start_time": "2020-12-21T08:08:58.918037",
     "status": "completed"
    },
    "tags": []
   },
   "outputs": [],
   "source": [
    "data_len = len(data)\n",
    "data = pd.concat([data],axis = 0).reset_index(drop = True)"
   ]
  },
  {
   "cell_type": "code",
   "execution_count": null,
   "metadata": {
    "execution": {
     "iopub.execute_input": "2020-12-21T08:08:59.171436Z",
     "iopub.status.busy": "2020-12-21T08:08:59.170685Z",
     "iopub.status.idle": "2020-12-21T08:08:59.175587Z",
     "shell.execute_reply": "2020-12-21T08:08:59.175047Z"
    },
    "papermill": {
     "duration": 0.094945,
     "end_time": "2020-12-21T08:08:59.175711",
     "exception": false,
     "start_time": "2020-12-21T08:08:59.080766",
     "status": "completed"
    },
    "tags": []
   },
   "outputs": [],
   "source": [
    "data.head()"
   ]
  },
  {
   "cell_type": "markdown",
   "metadata": {
    "papermill": {
     "duration": 0.084848,
     "end_time": "2020-12-21T08:08:59.389971",
     "exception": false,
     "start_time": "2020-12-21T08:08:59.305123",
     "status": "completed"
    },
    "tags": []
   },
   "source": [
    "<a id = \"9\"></a><br>\n",
    "## Find Missing Value"
   ]
  },
  {
   "cell_type": "code",
   "execution_count": null,
   "metadata": {
    "execution": {
     "iopub.execute_input": "2020-12-21T08:08:59.555527Z",
     "iopub.status.busy": "2020-12-21T08:08:59.554481Z",
     "iopub.status.idle": "2020-12-21T08:08:59.559033Z",
     "shell.execute_reply": "2020-12-21T08:08:59.558460Z"
    },
    "papermill": {
     "duration": 0.089993,
     "end_time": "2020-12-21T08:08:59.559145",
     "exception": false,
     "start_time": "2020-12-21T08:08:59.469152",
     "status": "completed"
    },
    "tags": []
   },
   "outputs": [],
   "source": [
    "data.columns[data.isnull().any()]"
   ]
  },
  {
   "cell_type": "code",
   "execution_count": null,
   "metadata": {
    "execution": {
     "iopub.execute_input": "2020-12-21T08:08:59.723099Z",
     "iopub.status.busy": "2020-12-21T08:08:59.722030Z",
     "iopub.status.idle": "2020-12-21T08:08:59.727117Z",
     "shell.execute_reply": "2020-12-21T08:08:59.727760Z"
    },
    "papermill": {
     "duration": 0.090486,
     "end_time": "2020-12-21T08:08:59.727902",
     "exception": false,
     "start_time": "2020-12-21T08:08:59.637416",
     "status": "completed"
    },
    "tags": []
   },
   "outputs": [],
   "source": [
    "data.isnull().sum()"
   ]
  },
  {
   "cell_type": "code",
   "execution_count": null,
   "metadata": {
    "execution": {
     "iopub.execute_input": "2020-12-21T08:09:00.048486Z",
     "iopub.status.busy": "2020-12-21T08:09:00.047409Z",
     "iopub.status.idle": "2020-12-21T08:09:00.051632Z",
     "shell.execute_reply": "2020-12-21T08:09:00.052128Z"
    },
    "papermill": {
     "duration": 0.088516,
     "end_time": "2020-12-21T08:09:00.052372",
     "exception": false,
     "start_time": "2020-12-21T08:08:59.963856",
     "status": "completed"
    },
    "tags": []
   },
   "outputs": [],
   "source": [
    "accuracies = {}"
   ]
  },
  {
   "cell_type": "markdown",
   "metadata": {
    "papermill": {
     "duration": 0.086411,
     "end_time": "2020-12-21T08:09:00.216581",
     "exception": false,
     "start_time": "2020-12-21T08:09:00.130170",
     "status": "completed"
    },
    "tags": []
   },
   "source": [
    "<a id = \"11\"></a><br>\n",
    " ## Gini:"
   ]
  },
  {
   "cell_type": "code",
   "execution_count": null,
   "metadata": {
    "execution": {
     "iopub.execute_input": "2020-12-21T08:09:00.380268Z",
     "iopub.status.busy": "2020-12-21T08:09:00.379249Z",
     "iopub.status.idle": "2020-12-21T08:09:00.708887Z",
     "shell.execute_reply": "2020-12-21T08:09:00.709452Z"
    },
    "papermill": {
     "duration": 0.411898,
     "end_time": "2020-12-21T08:09:00.709623",
     "exception": false,
     "start_time": "2020-12-21T08:09:00.297725",
     "status": "completed"
    },
    "tags": []
   },
   "outputs": [],
   "source": [
    "from sklearn.model_selection import train_test_split\n",
    "from sklearn.tree import DecisionTreeClassifier \n",
    "from sklearn.metrics import accuracy_score\n"
   ]
  },
  {
   "cell_type": "code",
   "execution_count": null,
   "metadata": {
    "execution": {
     "iopub.execute_input": "2020-12-21T08:09:00.872051Z",
     "iopub.status.busy": "2020-12-21T08:09:00.871178Z",
     "iopub.status.idle": "2020-12-21T08:09:00.877100Z",
     "shell.execute_reply": "2020-12-21T08:09:00.877642Z"
    },
    "papermill": {
     "duration": 0.088636,
     "end_time": "2020-12-21T08:09:00.877798",
     "exception": false,
     "start_time": "2020-12-21T08:09:00.789162",
     "status": "completed"
    },
    "tags": []
   },
   "outputs": [],
   "source": [
    "X = data.iloc[:, 0:13]\n",
    "Y = data.iloc[:, 13]"
   ]
  },
  {
   "cell_type": "code",
   "execution_count": null,
   "metadata": {
    "execution": {
     "iopub.execute_input": "2020-12-21T08:09:01.040941Z",
     "iopub.status.busy": "2020-12-21T08:09:01.040065Z",
     "iopub.status.idle": "2020-12-21T08:09:01.049385Z",
     "shell.execute_reply": "2020-12-21T08:09:01.048614Z"
    },
    "papermill": {
     "duration": 0.093197,
     "end_time": "2020-12-21T08:09:01.049516",
     "exception": false,
     "start_time": "2020-12-21T08:09:00.956319",
     "status": "completed"
    },
    "tags": []
   },
   "outputs": [],
   "source": [
    "X_train, X_test, y_train, y_test = train_test_split( X, Y, test_size = 0.3, random_state = 100)"
   ]
  },
  {
   "cell_type": "code",
   "execution_count": null,
   "metadata": {
    "execution": {
     "iopub.execute_input": "2020-12-21T08:09:01.214607Z",
     "iopub.status.busy": "2020-12-21T08:09:01.213863Z",
     "iopub.status.idle": "2020-12-21T08:09:01.219149Z",
     "shell.execute_reply": "2020-12-21T08:09:01.218514Z"
    },
    "papermill": {
     "duration": 0.088333,
     "end_time": "2020-12-21T08:09:01.219295",
     "exception": false,
     "start_time": "2020-12-21T08:09:01.130962",
     "status": "completed"
    },
    "tags": []
   },
   "outputs": [],
   "source": [
    "clf_gini = DecisionTreeClassifier(criterion = 'gini', random_state = 100,\n",
    "                               max_depth=3, min_samples_leaf=5)"
   ]
  },
  {
   "cell_type": "code",
   "execution_count": null,
   "metadata": {
    "execution": {
     "iopub.execute_input": "2020-12-21T08:09:01.387520Z",
     "iopub.status.busy": "2020-12-21T08:09:01.386802Z",
     "iopub.status.idle": "2020-12-21T08:09:01.396015Z",
     "shell.execute_reply": "2020-12-21T08:09:01.396640Z"
    },
    "papermill": {
     "duration": 0.098413,
     "end_time": "2020-12-21T08:09:01.396810",
     "exception": false,
     "start_time": "2020-12-21T08:09:01.298397",
     "status": "completed"
    },
    "tags": []
   },
   "outputs": [],
   "source": [
    "clf_gini.fit(X_train, y_train)\n",
    "\n"
   ]
  },
  {
   "cell_type": "code",
   "execution_count": null,
   "metadata": {
    "execution": {
     "iopub.execute_input": "2020-12-21T08:09:01.566930Z",
     "iopub.status.busy": "2020-12-21T08:09:01.566275Z",
     "iopub.status.idle": "2020-12-21T08:09:01.572485Z",
     "shell.execute_reply": "2020-12-21T08:09:01.572991Z"
    },
    "papermill": {
     "duration": 0.095018,
     "end_time": "2020-12-21T08:09:01.573141",
     "exception": false,
     "start_time": "2020-12-21T08:09:01.478123",
     "status": "completed"
    },
    "tags": []
   },
   "outputs": [],
   "source": [
    "print(clf_gini.predict([[40,1,1,141.5,271,1,1,151,0,0.8,2,3,2]]))"
   ]
  },
  {
   "cell_type": "code",
   "execution_count": null,
   "metadata": {
    "execution": {
     "iopub.execute_input": "2020-12-21T08:09:01.734986Z",
     "iopub.status.busy": "2020-12-21T08:09:01.734361Z",
     "iopub.status.idle": "2020-12-21T08:09:01.743240Z",
     "shell.execute_reply": "2020-12-21T08:09:01.742634Z"
    },
    "papermill": {
     "duration": 0.09121,
     "end_time": "2020-12-21T08:09:01.743368",
     "exception": false,
     "start_time": "2020-12-21T08:09:01.652158",
     "status": "completed"
    },
    "tags": []
   },
   "outputs": [],
   "source": [
    "y_pred = clf_gini.predict(X_test)\n",
    "print(y_pred)\n"
   ]
  },
  {
   "cell_type": "code",
   "execution_count": null,
   "metadata": {
    "execution": {
     "iopub.execute_input": "2020-12-21T08:09:01.910958Z",
     "iopub.status.busy": "2020-12-21T08:09:01.910263Z",
     "iopub.status.idle": "2020-12-21T08:09:01.915486Z",
     "shell.execute_reply": "2020-12-21T08:09:01.916243Z"
    },
    "papermill": {
     "duration": 0.091775,
     "end_time": "2020-12-21T08:09:01.916446",
     "exception": false,
     "start_time": "2020-12-21T08:09:01.824671",
     "status": "completed"
    },
    "tags": []
   },
   "outputs": [],
   "source": [
    "print (\"Accuracy score gini \", accuracy_score(y_test,y_pred)*100)"
   ]
  },
  {
   "cell_type": "code",
   "execution_count": null,
   "metadata": {
    "execution": {
     "iopub.execute_input": "2020-12-21T08:09:02.088765Z",
     "iopub.status.busy": "2020-12-21T08:09:02.088072Z",
     "iopub.status.idle": "2020-12-21T08:09:02.092192Z",
     "shell.execute_reply": "2020-12-21T08:09:02.091631Z"
    },
    "papermill": {
     "duration": 0.093313,
     "end_time": "2020-12-21T08:09:02.092335",
     "exception": false,
     "start_time": "2020-12-21T08:09:01.999022",
     "status": "completed"
    },
    "tags": []
   },
   "outputs": [],
   "source": [
    "acc=accuracy_score(y_test,y_pred)*100\n",
    "accuracies['Gini']=acc"
   ]
  },
  {
   "cell_type": "markdown",
   "metadata": {
    "papermill": {
     "duration": 0.097374,
     "end_time": "2020-12-21T08:09:02.270764",
     "exception": false,
     "start_time": "2020-12-21T08:09:02.173390",
     "status": "completed"
    },
    "tags": []
   },
   "source": [
    "<a id = \"12\"></a><br>\n",
    " ## Entropy:"
   ]
  },
  {
   "cell_type": "code",
   "execution_count": null,
   "metadata": {
    "execution": {
     "iopub.execute_input": "2020-12-21T08:09:02.436808Z",
     "iopub.status.busy": "2020-12-21T08:09:02.435763Z",
     "iopub.status.idle": "2020-12-21T08:09:02.441559Z",
     "shell.execute_reply": "2020-12-21T08:09:02.442145Z"
    },
    "papermill": {
     "duration": 0.090775,
     "end_time": "2020-12-21T08:09:02.442308",
     "exception": false,
     "start_time": "2020-12-21T08:09:02.351533",
     "status": "completed"
    },
    "tags": []
   },
   "outputs": [],
   "source": [
    "X = data.iloc[:, 0:13]\n",
    "Y = data.iloc[:, 13]"
   ]
  },
  {
   "cell_type": "code",
   "execution_count": null,
   "metadata": {
    "execution": {
     "iopub.execute_input": "2020-12-21T08:09:02.616282Z",
     "iopub.status.busy": "2020-12-21T08:09:02.615089Z",
     "iopub.status.idle": "2020-12-21T08:09:02.624619Z",
     "shell.execute_reply": "2020-12-21T08:09:02.624016Z"
    },
    "papermill": {
     "duration": 0.101551,
     "end_time": "2020-12-21T08:09:02.624748",
     "exception": false,
     "start_time": "2020-12-21T08:09:02.523197",
     "status": "completed"
    },
    "tags": []
   },
   "outputs": [],
   "source": [
    "X_train, X_test, y_train, y_test = train_test_split( X, Y, test_size = 0.3, random_state = 100)"
   ]
  },
  {
   "cell_type": "code",
   "execution_count": null,
   "metadata": {
    "execution": {
     "iopub.execute_input": "2020-12-21T08:09:02.811882Z",
     "iopub.status.busy": "2020-12-21T08:09:02.811122Z",
     "iopub.status.idle": "2020-12-21T08:09:02.821696Z",
     "shell.execute_reply": "2020-12-21T08:09:02.822237Z"
    },
    "papermill": {
     "duration": 0.107961,
     "end_time": "2020-12-21T08:09:02.822442",
     "exception": false,
     "start_time": "2020-12-21T08:09:02.714481",
     "status": "completed"
    },
    "tags": []
   },
   "outputs": [],
   "source": [
    "clf_entropy = DecisionTreeClassifier(criterion = \"entropy\", random_state = 100,\n",
    " max_depth=3, min_samples_leaf=5)\n",
    "clf_entropy.fit(X_train, y_train)"
   ]
  },
  {
   "cell_type": "code",
   "execution_count": null,
   "metadata": {
    "execution": {
     "iopub.execute_input": "2020-12-21T08:09:02.989684Z",
     "iopub.status.busy": "2020-12-21T08:09:02.988953Z",
     "iopub.status.idle": "2020-12-21T08:09:02.997993Z",
     "shell.execute_reply": "2020-12-21T08:09:02.997178Z"
    },
    "papermill": {
     "duration": 0.093276,
     "end_time": "2020-12-21T08:09:02.998148",
     "exception": false,
     "start_time": "2020-12-21T08:09:02.904872",
     "status": "completed"
    },
    "tags": []
   },
   "outputs": [],
   "source": [
    "print(clf_entropy.predict([[40,1,1,141.5,271,1,1,151,0,0.8,2,3,2]]))"
   ]
  },
  {
   "cell_type": "code",
   "execution_count": null,
   "metadata": {
    "execution": {
     "iopub.execute_input": "2020-12-21T08:09:03.167199Z",
     "iopub.status.busy": "2020-12-21T08:09:03.166196Z",
     "iopub.status.idle": "2020-12-21T08:09:03.175101Z",
     "shell.execute_reply": "2020-12-21T08:09:03.175835Z"
    },
    "papermill": {
     "duration": 0.094257,
     "end_time": "2020-12-21T08:09:03.175982",
     "exception": false,
     "start_time": "2020-12-21T08:09:03.081725",
     "status": "completed"
    },
    "tags": []
   },
   "outputs": [],
   "source": [
    "y_pred_en = clf_entropy.predict(X_test)\n",
    "print(y_pred_en)"
   ]
  },
  {
   "cell_type": "code",
   "execution_count": null,
   "metadata": {
    "execution": {
     "iopub.execute_input": "2020-12-21T08:09:03.349662Z",
     "iopub.status.busy": "2020-12-21T08:09:03.348949Z",
     "iopub.status.idle": "2020-12-21T08:09:03.352594Z",
     "shell.execute_reply": "2020-12-21T08:09:03.351898Z"
    },
    "papermill": {
     "duration": 0.092254,
     "end_time": "2020-12-21T08:09:03.352717",
     "exception": false,
     "start_time": "2020-12-21T08:09:03.260463",
     "status": "completed"
    },
    "tags": []
   },
   "outputs": [],
   "source": [
    "print (\"Accuracy score entropy \", accuracy_score(y_test,y_pred_en)*100)\n"
   ]
  },
  {
   "cell_type": "code",
   "execution_count": null,
   "metadata": {
    "execution": {
     "iopub.execute_input": "2020-12-21T08:09:03.525309Z",
     "iopub.status.busy": "2020-12-21T08:09:03.524508Z",
     "iopub.status.idle": "2020-12-21T08:09:03.527999Z",
     "shell.execute_reply": "2020-12-21T08:09:03.528597Z"
    },
    "papermill": {
     "duration": 0.092927,
     "end_time": "2020-12-21T08:09:03.528755",
     "exception": false,
     "start_time": "2020-12-21T08:09:03.435828",
     "status": "completed"
    },
    "tags": []
   },
   "outputs": [],
   "source": [
    "acc=accuracy_score(y_test,y_pred_en)*100\n",
    "accuracies['Entropy']=acc"
   ]
  },
  {
   "cell_type": "markdown",
   "metadata": {
    "papermill": {
     "duration": 0.085036,
     "end_time": "2020-12-21T08:09:03.699931",
     "exception": false,
     "start_time": "2020-12-21T08:09:03.614895",
     "status": "completed"
    },
    "tags": []
   },
   "source": [
    "<a id = \"13\"></a><br>\n",
    " ## Random Forest:"
   ]
  },
  {
   "cell_type": "code",
   "execution_count": null,
   "metadata": {
    "execution": {
     "iopub.execute_input": "2020-12-21T08:09:03.885358Z",
     "iopub.status.busy": "2020-12-21T08:09:03.884547Z",
     "iopub.status.idle": "2020-12-21T08:09:03.919844Z",
     "shell.execute_reply": "2020-12-21T08:09:03.919040Z"
    },
    "papermill": {
     "duration": 0.130103,
     "end_time": "2020-12-21T08:09:03.919965",
     "exception": false,
     "start_time": "2020-12-21T08:09:03.789862",
     "status": "completed"
    },
    "tags": []
   },
   "outputs": [],
   "source": [
    "from sklearn.ensemble import RandomForestClassifier"
   ]
  },
  {
   "cell_type": "code",
   "execution_count": null,
   "metadata": {
    "execution": {
     "iopub.execute_input": "2020-12-21T08:09:04.098984Z",
     "iopub.status.busy": "2020-12-21T08:09:04.098235Z",
     "iopub.status.idle": "2020-12-21T08:09:04.101745Z",
     "shell.execute_reply": "2020-12-21T08:09:04.101171Z"
    },
    "papermill": {
     "duration": 0.095988,
     "end_time": "2020-12-21T08:09:04.101860",
     "exception": false,
     "start_time": "2020-12-21T08:09:04.005872",
     "status": "completed"
    },
    "tags": []
   },
   "outputs": [],
   "source": [
    "X_train, X_test, y_train, y_test = train_test_split( X, Y, test_size = 0.3, random_state = 100)"
   ]
  },
  {
   "cell_type": "code",
   "execution_count": null,
   "metadata": {
    "execution": {
     "iopub.execute_input": "2020-12-21T08:09:04.311513Z",
     "iopub.status.busy": "2020-12-21T08:09:04.292060Z",
     "iopub.status.idle": "2020-12-21T08:09:06.342237Z",
     "shell.execute_reply": "2020-12-21T08:09:06.342786Z"
    },
    "papermill": {
     "duration": 2.157672,
     "end_time": "2020-12-21T08:09:06.342928",
     "exception": false,
     "start_time": "2020-12-21T08:09:04.185256",
     "status": "completed"
    },
    "tags": []
   },
   "outputs": [],
   "source": [
    "randomf = RandomForestClassifier(n_estimators = 1000, random_state = 1)\n",
    "randomf.fit(X_train, y_train)"
   ]
  },
  {
   "cell_type": "code",
   "execution_count": null,
   "metadata": {
    "execution": {
     "iopub.execute_input": "2020-12-21T08:09:06.517516Z",
     "iopub.status.busy": "2020-12-21T08:09:06.516758Z",
     "iopub.status.idle": "2020-12-21T08:09:06.609664Z",
     "shell.execute_reply": "2020-12-21T08:09:06.608963Z"
    },
    "papermill": {
     "duration": 0.181366,
     "end_time": "2020-12-21T08:09:06.609777",
     "exception": false,
     "start_time": "2020-12-21T08:09:06.428411",
     "status": "completed"
    },
    "tags": []
   },
   "outputs": [],
   "source": [
    "print(randomf.predict([[40,1,1,141.5,271,1,1,151,0,0.8,2,3,2]]))"
   ]
  },
  {
   "cell_type": "code",
   "execution_count": null,
   "metadata": {
    "execution": {
     "iopub.execute_input": "2020-12-21T08:09:06.791620Z",
     "iopub.status.busy": "2020-12-21T08:09:06.790534Z",
     "iopub.status.idle": "2020-12-21T08:09:06.891749Z",
     "shell.execute_reply": "2020-12-21T08:09:06.892292Z"
    },
    "papermill": {
     "duration": 0.197759,
     "end_time": "2020-12-21T08:09:06.892457",
     "exception": false,
     "start_time": "2020-12-21T08:09:06.694698",
     "status": "completed"
    },
    "tags": []
   },
   "outputs": [],
   "source": [
    "y_pred_randomf = randomf.predict(X_test)\n",
    "print(y_pred_randomf)"
   ]
  },
  {
   "cell_type": "code",
   "execution_count": null,
   "metadata": {
    "execution": {
     "iopub.execute_input": "2020-12-21T08:09:07.072235Z",
     "iopub.status.busy": "2020-12-21T08:09:07.071551Z",
     "iopub.status.idle": "2020-12-21T08:09:07.075812Z",
     "shell.execute_reply": "2020-12-21T08:09:07.076840Z"
    },
    "papermill": {
     "duration": 0.099576,
     "end_time": "2020-12-21T08:09:07.077145",
     "exception": false,
     "start_time": "2020-12-21T08:09:06.977569",
     "status": "completed"
    },
    "tags": []
   },
   "outputs": [],
   "source": [
    "print (\"Accuracy score random forest: \", accuracy_score(y_test,y_pred_randomf)*100)"
   ]
  },
  {
   "cell_type": "code",
   "execution_count": null,
   "metadata": {
    "execution": {
     "iopub.execute_input": "2020-12-21T08:09:07.261597Z",
     "iopub.status.busy": "2020-12-21T08:09:07.260853Z",
     "iopub.status.idle": "2020-12-21T08:09:07.264863Z",
     "shell.execute_reply": "2020-12-21T08:09:07.264131Z"
    },
    "papermill": {
     "duration": 0.097661,
     "end_time": "2020-12-21T08:09:07.264983",
     "exception": false,
     "start_time": "2020-12-21T08:09:07.167322",
     "status": "completed"
    },
    "tags": []
   },
   "outputs": [],
   "source": [
    "acc=accuracy_score(y_test,y_pred_randomf)*100\n",
    "accuracies['Random Forest']=acc"
   ]
  },
  {
   "cell_type": "markdown",
   "metadata": {
    "papermill": {
     "duration": 0.084951,
     "end_time": "2020-12-21T08:09:07.435922",
     "exception": false,
     "start_time": "2020-12-21T08:09:07.350971",
     "status": "completed"
    },
    "tags": []
   },
   "source": [
    "<a id = \"14\"></a><br>\n",
    " ## KNN:"
   ]
  },
  {
   "cell_type": "code",
   "execution_count": null,
   "metadata": {
    "execution": {
     "iopub.execute_input": "2020-12-21T08:09:07.619618Z",
     "iopub.status.busy": "2020-12-21T08:09:07.618732Z",
     "iopub.status.idle": "2020-12-21T08:09:07.622544Z",
     "shell.execute_reply": "2020-12-21T08:09:07.621865Z"
    },
    "papermill": {
     "duration": 0.097755,
     "end_time": "2020-12-21T08:09:07.622662",
     "exception": false,
     "start_time": "2020-12-21T08:09:07.524907",
     "status": "completed"
    },
    "tags": []
   },
   "outputs": [],
   "source": [
    "from sklearn.neighbors import KNeighborsClassifier"
   ]
  },
  {
   "cell_type": "code",
   "execution_count": null,
   "metadata": {
    "execution": {
     "iopub.execute_input": "2020-12-21T08:09:07.802711Z",
     "iopub.status.busy": "2020-12-21T08:09:07.802028Z",
     "iopub.status.idle": "2020-12-21T08:09:07.805835Z",
     "shell.execute_reply": "2020-12-21T08:09:07.805332Z"
    },
    "papermill": {
     "duration": 0.09705,
     "end_time": "2020-12-21T08:09:07.805963",
     "exception": false,
     "start_time": "2020-12-21T08:09:07.708913",
     "status": "completed"
    },
    "tags": []
   },
   "outputs": [],
   "source": [
    "X = data.iloc[:, 0:13]\n",
    "Y = data.iloc[:, 13]"
   ]
  },
  {
   "cell_type": "code",
   "execution_count": null,
   "metadata": {
    "execution": {
     "iopub.execute_input": "2020-12-21T08:09:07.986038Z",
     "iopub.status.busy": "2020-12-21T08:09:07.985358Z",
     "iopub.status.idle": "2020-12-21T08:09:07.988250Z",
     "shell.execute_reply": "2020-12-21T08:09:07.987660Z"
    },
    "papermill": {
     "duration": 0.096924,
     "end_time": "2020-12-21T08:09:07.988370",
     "exception": false,
     "start_time": "2020-12-21T08:09:07.891446",
     "status": "completed"
    },
    "tags": []
   },
   "outputs": [],
   "source": [
    "X_train, X_test, y_train, y_test = train_test_split( X, Y, test_size = 0.3, random_state = 100)"
   ]
  },
  {
   "cell_type": "code",
   "execution_count": null,
   "metadata": {
    "execution": {
     "iopub.execute_input": "2020-12-21T08:09:08.166937Z",
     "iopub.status.busy": "2020-12-21T08:09:08.166198Z",
     "iopub.status.idle": "2020-12-21T08:09:08.169399Z",
     "shell.execute_reply": "2020-12-21T08:09:08.168812Z"
    },
    "papermill": {
     "duration": 0.093248,
     "end_time": "2020-12-21T08:09:08.169527",
     "exception": false,
     "start_time": "2020-12-21T08:09:08.076279",
     "status": "completed"
    },
    "tags": []
   },
   "outputs": [],
   "source": [
    "knn = KNeighborsClassifier(n_neighbors = 2)"
   ]
  },
  {
   "cell_type": "code",
   "execution_count": null,
   "metadata": {
    "execution": {
     "iopub.execute_input": "2020-12-21T08:09:08.360735Z",
     "iopub.status.busy": "2020-12-21T08:09:08.360011Z",
     "iopub.status.idle": "2020-12-21T08:09:08.364195Z",
     "shell.execute_reply": "2020-12-21T08:09:08.363635Z"
    },
    "papermill": {
     "duration": 0.101766,
     "end_time": "2020-12-21T08:09:08.364326",
     "exception": false,
     "start_time": "2020-12-21T08:09:08.262560",
     "status": "completed"
    },
    "tags": []
   },
   "outputs": [],
   "source": [
    "knn.fit(X_train, y_train)"
   ]
  },
  {
   "cell_type": "code",
   "execution_count": null,
   "metadata": {
    "execution": {
     "iopub.execute_input": "2020-12-21T08:09:08.546501Z",
     "iopub.status.busy": "2020-12-21T08:09:08.545813Z",
     "iopub.status.idle": "2020-12-21T08:09:08.549985Z",
     "shell.execute_reply": "2020-12-21T08:09:08.549431Z"
    },
    "papermill": {
     "duration": 0.098659,
     "end_time": "2020-12-21T08:09:08.550094",
     "exception": false,
     "start_time": "2020-12-21T08:09:08.451435",
     "status": "completed"
    },
    "tags": []
   },
   "outputs": [],
   "source": [
    "print(knn.predict([[40,1,1,141.5,271,1,1,151,0,0.8,2,3,2]]))"
   ]
  },
  {
   "cell_type": "code",
   "execution_count": null,
   "metadata": {
    "execution": {
     "iopub.execute_input": "2020-12-21T08:09:08.733963Z",
     "iopub.status.busy": "2020-12-21T08:09:08.733264Z",
     "iopub.status.idle": "2020-12-21T08:09:08.745152Z",
     "shell.execute_reply": "2020-12-21T08:09:08.743758Z"
    },
    "papermill": {
     "duration": 0.106012,
     "end_time": "2020-12-21T08:09:08.745391",
     "exception": false,
     "start_time": "2020-12-21T08:09:08.639379",
     "status": "completed"
    },
    "tags": []
   },
   "outputs": [],
   "source": [
    "y_predknn = knn.predict(X_test)\n",
    "print(y_predknn)"
   ]
  },
  {
   "cell_type": "code",
   "execution_count": null,
   "metadata": {
    "execution": {
     "iopub.execute_input": "2020-12-21T08:09:08.932678Z",
     "iopub.status.busy": "2020-12-21T08:09:08.931973Z",
     "iopub.status.idle": "2020-12-21T08:09:08.936042Z",
     "shell.execute_reply": "2020-12-21T08:09:08.936534Z"
    },
    "papermill": {
     "duration": 0.097037,
     "end_time": "2020-12-21T08:09:08.936682",
     "exception": false,
     "start_time": "2020-12-21T08:09:08.839645",
     "status": "completed"
    },
    "tags": []
   },
   "outputs": [],
   "source": [
    "print (\"Accuracy score knn \", accuracy_score(y_test,y_predknn)*100)"
   ]
  },
  {
   "cell_type": "code",
   "execution_count": null,
   "metadata": {
    "execution": {
     "iopub.execute_input": "2020-12-21T08:09:09.119274Z",
     "iopub.status.busy": "2020-12-21T08:09:09.118553Z",
     "iopub.status.idle": "2020-12-21T08:09:09.123201Z",
     "shell.execute_reply": "2020-12-21T08:09:09.122543Z"
    },
    "papermill": {
     "duration": 0.098667,
     "end_time": "2020-12-21T08:09:09.123336",
     "exception": false,
     "start_time": "2020-12-21T08:09:09.024669",
     "status": "completed"
    },
    "tags": []
   },
   "outputs": [],
   "source": [
    "acc=accuracy_score(y_test,y_predknn)*100\n",
    "accuracies['KNN']=acc"
   ]
  },
  {
   "cell_type": "markdown",
   "metadata": {
    "papermill": {
     "duration": 0.099634,
     "end_time": "2020-12-21T08:09:12.848729",
     "exception": false,
     "start_time": "2020-12-21T08:09:12.749095",
     "status": "completed"
    },
    "tags": []
   },
   "source": [
    "<a id = \"16\"></a><br>\n",
    "## Comparison of algorithms"
   ]
  },
  {
   "cell_type": "code",
   "execution_count": null,
   "metadata": {
    "execution": {
     "iopub.execute_input": "2020-12-21T08:09:13.053961Z",
     "iopub.status.busy": "2020-12-21T08:09:13.050702Z",
     "iopub.status.idle": "2020-12-21T08:09:13.252552Z",
     "shell.execute_reply": "2020-12-21T08:09:13.251955Z"
    },
    "papermill": {
     "duration": 0.310229,
     "end_time": "2020-12-21T08:09:13.252692",
     "exception": false,
     "start_time": "2020-12-21T08:09:12.942463",
     "status": "completed"
    },
    "tags": []
   },
   "outputs": [],
   "source": [
    "colors = [\"#00008b\", \"#00e5ee\", \"#cd1076\", \"#008080\",\"#cd5555\"]\n",
    "\n",
    "sns.set_style(\"whitegrid\")\n",
    "plt.figure(figsize=(16,5))\n",
    "plt.yticks(np.arange(0,100,5))\n",
    "plt.ylabel(\"Accuracy %\")\n",
    "plt.xlabel(\"\\n\\n Algorithms\")\n",
    "sns.barplot(x=list(accuracies.keys()), y=list(accuracies.values()), palette=colors)\n",
    "plt.show()"
   ]
  }
 ],
 "metadata": {
  "kernelspec": {
   "display_name": "Python 3",
   "language": "python",
   "name": "python3"
  },
  "papermill": {
   "duration": 29.020049,
   "end_time": "2020-12-21T08:09:13.454894",
   "environment_variables": {},
   "exception": null,
   "input_path": "__notebook__.ipynb",
   "output_path": "__notebook__.ipynb",
   "parameters": {},
   "start_time": "2020-12-21T08:08:44.434845",
   "version": "2.1.0"
  }
 },
 "nbformat": 4,
 "nbformat_minor": 4
}
