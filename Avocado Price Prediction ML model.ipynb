{
 "cells": [
  {
   "cell_type": "markdown",
   "metadata": {
    "id": "7HIyR-bwGaca"
   },
   "source": [
    "# Libraries"
   ]
  },
  {
   "cell_type": "code",
   "execution_count": 1,
   "metadata": {
    "_cell_guid": "79c7e3d0-c299-4dcb-8224-4455121ee9b0",
    "_uuid": "d629ff2d2480ee46fbb7e2d37f6b5fab8052498a",
    "id": "2A9KTBfcGaci"
   },
   "outputs": [],
   "source": [
    "import matplotlib.pyplot as plt\n",
    "import seaborn as sns\n",
    "import numpy as np\n",
    "import pandas as pd\n",
    "from sklearn.model_selection import train_test_split\n",
    "from sklearn.metrics import*\n",
    "import matplotlib.pyplot as plt\n",
    "from sklearn.model_selection import train_test_split\n",
    "from sklearn.preprocessing import StandardScaler\n",
    "from sklearn.feature_selection import VarianceThreshold\n",
    "from sklearn.pipeline import make_pipeline\n",
    "from sklearn.linear_model import*\n",
    "from sklearn.preprocessing import*\n",
    "from sklearn.ensemble import*\n",
    "from sklearn.neighbors import*\n",
    "from sklearn import svm"
   ]
  },
  {
   "cell_type": "markdown",
   "metadata": {
    "id": "GuF6uk2HGacj"
   },
   "source": [
    "# Data gathering and Primary visualization"
   ]
  },
  {
   "cell_type": "code",
   "execution_count": 2,
   "metadata": {
    "id": "ml0gf2GMGack",
    "outputId": "62c0f871-2ed6-4b64-ac34-dfe6196bf48a"
   },
   "outputs": [
    {
     "data": {
      "text/html": [
       "<div>\n",
       "<style scoped>\n",
       "    .dataframe tbody tr th:only-of-type {\n",
       "        vertical-align: middle;\n",
       "    }\n",
       "\n",
       "    .dataframe tbody tr th {\n",
       "        vertical-align: top;\n",
       "    }\n",
       "\n",
       "    .dataframe thead th {\n",
       "        text-align: right;\n",
       "    }\n",
       "</style>\n",
       "<table border=\"1\" class=\"dataframe\">\n",
       "  <thead>\n",
       "    <tr style=\"text-align: right;\">\n",
       "      <th></th>\n",
       "      <th>Unnamed: 0</th>\n",
       "      <th>Date</th>\n",
       "      <th>AveragePrice</th>\n",
       "      <th>Total Volume</th>\n",
       "      <th>4046</th>\n",
       "      <th>4225</th>\n",
       "      <th>4770</th>\n",
       "      <th>Total Bags</th>\n",
       "      <th>Small Bags</th>\n",
       "      <th>Large Bags</th>\n",
       "      <th>XLarge Bags</th>\n",
       "      <th>type</th>\n",
       "      <th>year</th>\n",
       "      <th>region</th>\n",
       "    </tr>\n",
       "  </thead>\n",
       "  <tbody>\n",
       "    <tr>\n",
       "      <th>0</th>\n",
       "      <td>0</td>\n",
       "      <td>2015-12-27</td>\n",
       "      <td>1.33</td>\n",
       "      <td>64236.62</td>\n",
       "      <td>1036.74</td>\n",
       "      <td>54454.85</td>\n",
       "      <td>48.16</td>\n",
       "      <td>8696.87</td>\n",
       "      <td>8603.62</td>\n",
       "      <td>93.25</td>\n",
       "      <td>0.0</td>\n",
       "      <td>conventional</td>\n",
       "      <td>2015</td>\n",
       "      <td>Albany</td>\n",
       "    </tr>\n",
       "    <tr>\n",
       "      <th>1</th>\n",
       "      <td>1</td>\n",
       "      <td>2015-12-20</td>\n",
       "      <td>1.35</td>\n",
       "      <td>54876.98</td>\n",
       "      <td>674.28</td>\n",
       "      <td>44638.81</td>\n",
       "      <td>58.33</td>\n",
       "      <td>9505.56</td>\n",
       "      <td>9408.07</td>\n",
       "      <td>97.49</td>\n",
       "      <td>0.0</td>\n",
       "      <td>conventional</td>\n",
       "      <td>2015</td>\n",
       "      <td>Albany</td>\n",
       "    </tr>\n",
       "    <tr>\n",
       "      <th>2</th>\n",
       "      <td>2</td>\n",
       "      <td>2015-12-13</td>\n",
       "      <td>0.93</td>\n",
       "      <td>118220.22</td>\n",
       "      <td>794.70</td>\n",
       "      <td>109149.67</td>\n",
       "      <td>130.50</td>\n",
       "      <td>8145.35</td>\n",
       "      <td>8042.21</td>\n",
       "      <td>103.14</td>\n",
       "      <td>0.0</td>\n",
       "      <td>conventional</td>\n",
       "      <td>2015</td>\n",
       "      <td>Albany</td>\n",
       "    </tr>\n",
       "    <tr>\n",
       "      <th>3</th>\n",
       "      <td>3</td>\n",
       "      <td>2015-12-06</td>\n",
       "      <td>1.08</td>\n",
       "      <td>78992.15</td>\n",
       "      <td>1132.00</td>\n",
       "      <td>71976.41</td>\n",
       "      <td>72.58</td>\n",
       "      <td>5811.16</td>\n",
       "      <td>5677.40</td>\n",
       "      <td>133.76</td>\n",
       "      <td>0.0</td>\n",
       "      <td>conventional</td>\n",
       "      <td>2015</td>\n",
       "      <td>Albany</td>\n",
       "    </tr>\n",
       "    <tr>\n",
       "      <th>4</th>\n",
       "      <td>4</td>\n",
       "      <td>2015-11-29</td>\n",
       "      <td>1.28</td>\n",
       "      <td>51039.60</td>\n",
       "      <td>941.48</td>\n",
       "      <td>43838.39</td>\n",
       "      <td>75.78</td>\n",
       "      <td>6183.95</td>\n",
       "      <td>5986.26</td>\n",
       "      <td>197.69</td>\n",
       "      <td>0.0</td>\n",
       "      <td>conventional</td>\n",
       "      <td>2015</td>\n",
       "      <td>Albany</td>\n",
       "    </tr>\n",
       "  </tbody>\n",
       "</table>\n",
       "</div>"
      ],
      "text/plain": [
       "   Unnamed: 0        Date  AveragePrice  Total Volume     4046       4225  \\\n",
       "0           0  2015-12-27          1.33      64236.62  1036.74   54454.85   \n",
       "1           1  2015-12-20          1.35      54876.98   674.28   44638.81   \n",
       "2           2  2015-12-13          0.93     118220.22   794.70  109149.67   \n",
       "3           3  2015-12-06          1.08      78992.15  1132.00   71976.41   \n",
       "4           4  2015-11-29          1.28      51039.60   941.48   43838.39   \n",
       "\n",
       "     4770  Total Bags  Small Bags  Large Bags  XLarge Bags          type  \\\n",
       "0   48.16     8696.87     8603.62       93.25          0.0  conventional   \n",
       "1   58.33     9505.56     9408.07       97.49          0.0  conventional   \n",
       "2  130.50     8145.35     8042.21      103.14          0.0  conventional   \n",
       "3   72.58     5811.16     5677.40      133.76          0.0  conventional   \n",
       "4   75.78     6183.95     5986.26      197.69          0.0  conventional   \n",
       "\n",
       "   year  region  \n",
       "0  2015  Albany  \n",
       "1  2015  Albany  \n",
       "2  2015  Albany  \n",
       "3  2015  Albany  \n",
       "4  2015  Albany  "
      ]
     },
     "execution_count": 2,
     "metadata": {},
     "output_type": "execute_result"
    }
   ],
   "source": [
    "df=pd.read_csv('avocado.csv')\n",
    "df.head()"
   ]
  },
  {
   "cell_type": "code",
   "execution_count": 3,
   "metadata": {
    "id": "PvDcEQx5Gack",
    "outputId": "4a355f8d-cb07-4cc4-faeb-ad578acb7e56"
   },
   "outputs": [
    {
     "name": "stdout",
     "output_type": "stream",
     "text": [
      "<class 'pandas.core.frame.DataFrame'>\n",
      "RangeIndex: 18249 entries, 0 to 18248\n",
      "Data columns (total 14 columns):\n",
      " #   Column        Non-Null Count  Dtype  \n",
      "---  ------        --------------  -----  \n",
      " 0   Unnamed: 0    18249 non-null  int64  \n",
      " 1   Date          18249 non-null  object \n",
      " 2   AveragePrice  18249 non-null  float64\n",
      " 3   Total Volume  18249 non-null  float64\n",
      " 4   4046          18249 non-null  float64\n",
      " 5   4225          18249 non-null  float64\n",
      " 6   4770          18249 non-null  float64\n",
      " 7   Total Bags    18249 non-null  float64\n",
      " 8   Small Bags    18249 non-null  float64\n",
      " 9   Large Bags    18249 non-null  float64\n",
      " 10  XLarge Bags   18249 non-null  float64\n",
      " 11  type          18249 non-null  object \n",
      " 12  year          18249 non-null  int64  \n",
      " 13  region        18249 non-null  object \n",
      "dtypes: float64(9), int64(2), object(3)\n",
      "memory usage: 1.9+ MB\n"
     ]
    }
   ],
   "source": [
    "df.info()"
   ]
  },
  {
   "cell_type": "code",
   "execution_count": 4,
   "metadata": {
    "id": "HobIsnZeGack",
    "outputId": "600ee82d-3ee2-40c0-8986-21fca24bd2e2"
   },
   "outputs": [
    {
     "name": "stdout",
     "output_type": "stream",
     "text": [
      "shape of the data : (18249, 14)\n"
     ]
    }
   ],
   "source": [
    "print('shape of the data :',df.shape)"
   ]
  },
  {
   "cell_type": "markdown",
   "metadata": {
    "id": "dZr961qaGacl"
   },
   "source": [
    "If there is any duplicates we can remove them now."
   ]
  },
  {
   "cell_type": "code",
   "execution_count": 5,
   "metadata": {
    "id": "rNJ1oU5TGacl",
    "outputId": "670484cb-dcb1-4914-a3f5-347babcba19b"
   },
   "outputs": [
    {
     "name": "stdout",
     "output_type": "stream",
     "text": [
      "total number of duplicate values :  0\n"
     ]
    }
   ],
   "source": [
    "print('total number of duplicate values : ',sum(df.duplicated()))"
   ]
  },
  {
   "cell_type": "markdown",
   "metadata": {
    "id": "wUqpWGRlGacl"
   },
   "source": [
    "So we do not have to drop any row or column and we can proceed to the next step."
   ]
  },
  {
   "cell_type": "markdown",
   "metadata": {
    "id": "wdnOeD9EGacl"
   },
   "source": [
    "# Train and validation data"
   ]
  },
  {
   "cell_type": "markdown",
   "metadata": {
    "id": "ItC0hx8WGacm"
   },
   "source": [
    "As we are predicting the price of the avocados we are going to put the prices column in the Y and rest of the data in X"
   ]
  },
  {
   "cell_type": "code",
   "execution_count": 6,
   "metadata": {
    "id": "vu19uRu_Gacm"
   },
   "outputs": [],
   "source": [
    "X=df.drop('AveragePrice',1)\n",
    "y=df['AveragePrice']"
   ]
  },
  {
   "cell_type": "code",
   "execution_count": 7,
   "metadata": {
    "id": "xAzDL3jFGacm",
    "outputId": "2f2d2cfc-3c64-453e-89da-586784946278"
   },
   "outputs": [
    {
     "name": "stdout",
     "output_type": "stream",
     "text": [
      "shape of X and y respectively : (18249, 13) (18249,)\n"
     ]
    }
   ],
   "source": [
    "print('shape of X and y respectively :',X.shape,y.shape)"
   ]
  },
  {
   "cell_type": "markdown",
   "metadata": {
    "id": "H37g0MWIGacm"
   },
   "source": [
    "As the dataset is medium in size we can perform a 80-20 train test split over the dataset."
   ]
  },
  {
   "cell_type": "code",
   "execution_count": 8,
   "metadata": {
    "id": "9kn6ZBmhGacn"
   },
   "outputs": [],
   "source": [
    "X_train,X_test,y_train,y_test=train_test_split(X,y,test_size=0.2,random_state=0)"
   ]
  },
  {
   "cell_type": "code",
   "execution_count": 9,
   "metadata": {
    "id": "F34123nrGacn",
    "outputId": "14693f1a-dd56-4dad-d7d3-451867ce536a"
   },
   "outputs": [
    {
     "name": "stdout",
     "output_type": "stream",
     "text": [
      "shape of X and y respectively(train) : (14599, 13) (14599,)\n",
      "shape of X and y respectively(test) : (3650, 13) (3650,)\n"
     ]
    }
   ],
   "source": [
    "print('shape of X and y respectively(train) :',X_train.shape,y_train.shape)\n",
    "print('shape of X and y respectively(test) :',X_test.shape,y_test.shape)"
   ]
  },
  {
   "cell_type": "code",
   "execution_count": 10,
   "metadata": {
    "_kg_hide-input": true,
    "id": "Pcnd4uE1Gacn"
   },
   "outputs": [],
   "source": [
    "cols=X_train.columns"
   ]
  },
  {
   "cell_type": "markdown",
   "metadata": {
    "id": "qTer2e7DGacn"
   },
   "source": [
    "# Preprocessing"
   ]
  },
  {
   "cell_type": "markdown",
   "metadata": {
    "id": "zJP6SLRRslWm"
   },
   "source": [
    "#### Encoding"
   ]
  },
  {
   "cell_type": "code",
   "execution_count": 11,
   "metadata": {
    "id": "GgzO8EhsGaco"
   },
   "outputs": [],
   "source": [
    "scaler=LabelEncoder()"
   ]
  },
  {
   "cell_type": "code",
   "execution_count": 12,
   "metadata": {
    "_kg_hide-output": true,
    "id": "mYqqr8ufGaco",
    "outputId": "8d832282-e076-42a1-d970-46d65f621b3c"
   },
   "outputs": [
    {
     "name": "stderr",
     "output_type": "stream",
     "text": [
      "C:\\ProgramData\\Anaconda3\\lib\\site-packages\\ipykernel_launcher.py:3: SettingWithCopyWarning: \n",
      "A value is trying to be set on a copy of a slice from a DataFrame.\n",
      "Try using .loc[row_indexer,col_indexer] = value instead\n",
      "\n",
      "See the caveats in the documentation: https://pandas.pydata.org/pandas-docs/stable/user_guide/indexing.html#returning-a-view-versus-a-copy\n",
      "  This is separate from the ipykernel package so we can avoid doing imports until\n",
      "C:\\ProgramData\\Anaconda3\\lib\\site-packages\\ipykernel_launcher.py:4: SettingWithCopyWarning: \n",
      "A value is trying to be set on a copy of a slice from a DataFrame.\n",
      "Try using .loc[row_indexer,col_indexer] = value instead\n",
      "\n",
      "See the caveats in the documentation: https://pandas.pydata.org/pandas-docs/stable/user_guide/indexing.html#returning-a-view-versus-a-copy\n",
      "  after removing the cwd from sys.path.\n"
     ]
    }
   ],
   "source": [
    "for col in X_train.columns:\n",
    "    if df[col].dtype=='object':\n",
    "        X_train[col]=scaler.fit_transform(X_train[col])\n",
    "        X_test[col]=scaler.transform(X_test[col])"
   ]
  },
  {
   "cell_type": "code",
   "execution_count": 13,
   "metadata": {
    "id": "lrwczIy1Gaco",
    "outputId": "92b2a591-13ed-434f-bb2c-f63810850db6"
   },
   "outputs": [
    {
     "data": {
      "text/html": [
       "<div>\n",
       "<style scoped>\n",
       "    .dataframe tbody tr th:only-of-type {\n",
       "        vertical-align: middle;\n",
       "    }\n",
       "\n",
       "    .dataframe tbody tr th {\n",
       "        vertical-align: top;\n",
       "    }\n",
       "\n",
       "    .dataframe thead th {\n",
       "        text-align: right;\n",
       "    }\n",
       "</style>\n",
       "<table border=\"1\" class=\"dataframe\">\n",
       "  <thead>\n",
       "    <tr style=\"text-align: right;\">\n",
       "      <th></th>\n",
       "      <th>Unnamed: 0</th>\n",
       "      <th>Date</th>\n",
       "      <th>Total Volume</th>\n",
       "      <th>4046</th>\n",
       "      <th>4225</th>\n",
       "      <th>4770</th>\n",
       "      <th>Total Bags</th>\n",
       "      <th>Small Bags</th>\n",
       "      <th>Large Bags</th>\n",
       "      <th>XLarge Bags</th>\n",
       "      <th>type</th>\n",
       "      <th>year</th>\n",
       "      <th>region</th>\n",
       "    </tr>\n",
       "  </thead>\n",
       "  <tbody>\n",
       "    <tr>\n",
       "      <th>14902</th>\n",
       "      <td>2</td>\n",
       "      <td>154</td>\n",
       "      <td>1797.04</td>\n",
       "      <td>28.34</td>\n",
       "      <td>552.03</td>\n",
       "      <td>0.00</td>\n",
       "      <td>1216.67</td>\n",
       "      <td>264.39</td>\n",
       "      <td>952.28</td>\n",
       "      <td>0.00</td>\n",
       "      <td>1</td>\n",
       "      <td>2017</td>\n",
       "      <td>3</td>\n",
       "    </tr>\n",
       "    <tr>\n",
       "      <th>7537</th>\n",
       "      <td>13</td>\n",
       "      <td>143</td>\n",
       "      <td>362296.15</td>\n",
       "      <td>97772.92</td>\n",
       "      <td>104336.09</td>\n",
       "      <td>14152.16</td>\n",
       "      <td>146034.98</td>\n",
       "      <td>92339.30</td>\n",
       "      <td>52994.80</td>\n",
       "      <td>700.88</td>\n",
       "      <td>0</td>\n",
       "      <td>2017</td>\n",
       "      <td>36</td>\n",
       "    </tr>\n",
       "    <tr>\n",
       "      <th>9720</th>\n",
       "      <td>22</td>\n",
       "      <td>29</td>\n",
       "      <td>12801.03</td>\n",
       "      <td>11536.00</td>\n",
       "      <td>337.16</td>\n",
       "      <td>0.00</td>\n",
       "      <td>927.87</td>\n",
       "      <td>927.87</td>\n",
       "      <td>0.00</td>\n",
       "      <td>0.00</td>\n",
       "      <td>1</td>\n",
       "      <td>2015</td>\n",
       "      <td>11</td>\n",
       "    </tr>\n",
       "    <tr>\n",
       "      <th>2105</th>\n",
       "      <td>25</td>\n",
       "      <td>26</td>\n",
       "      <td>550810.62</td>\n",
       "      <td>161220.26</td>\n",
       "      <td>305122.62</td>\n",
       "      <td>17131.92</td>\n",
       "      <td>67335.82</td>\n",
       "      <td>67335.82</td>\n",
       "      <td>0.00</td>\n",
       "      <td>0.00</td>\n",
       "      <td>0</td>\n",
       "      <td>2015</td>\n",
       "      <td>40</td>\n",
       "    </tr>\n",
       "    <tr>\n",
       "      <th>18083</th>\n",
       "      <td>2</td>\n",
       "      <td>166</td>\n",
       "      <td>8634.75</td>\n",
       "      <td>2317.50</td>\n",
       "      <td>3561.20</td>\n",
       "      <td>0.00</td>\n",
       "      <td>2756.05</td>\n",
       "      <td>2752.63</td>\n",
       "      <td>3.42</td>\n",
       "      <td>0.00</td>\n",
       "      <td>1</td>\n",
       "      <td>2018</td>\n",
       "      <td>40</td>\n",
       "    </tr>\n",
       "  </tbody>\n",
       "</table>\n",
       "</div>"
      ],
      "text/plain": [
       "       Unnamed: 0  Date  Total Volume       4046       4225      4770  \\\n",
       "14902           2   154       1797.04      28.34     552.03      0.00   \n",
       "7537           13   143     362296.15   97772.92  104336.09  14152.16   \n",
       "9720           22    29      12801.03   11536.00     337.16      0.00   \n",
       "2105           25    26     550810.62  161220.26  305122.62  17131.92   \n",
       "18083           2   166       8634.75    2317.50    3561.20      0.00   \n",
       "\n",
       "       Total Bags  Small Bags  Large Bags  XLarge Bags  type  year  region  \n",
       "14902     1216.67      264.39      952.28         0.00     1  2017       3  \n",
       "7537    146034.98    92339.30    52994.80       700.88     0  2017      36  \n",
       "9720       927.87      927.87        0.00         0.00     1  2015      11  \n",
       "2105     67335.82    67335.82        0.00         0.00     0  2015      40  \n",
       "18083     2756.05     2752.63        3.42         0.00     1  2018      40  "
      ]
     },
     "execution_count": 13,
     "metadata": {},
     "output_type": "execute_result"
    }
   ],
   "source": [
    "X_train.head()"
   ]
  },
  {
   "cell_type": "code",
   "execution_count": 14,
   "metadata": {
    "id": "cnnrWecdGacp"
   },
   "outputs": [],
   "source": [
    "scaler=VarianceThreshold(0.1)"
   ]
  },
  {
   "cell_type": "code",
   "execution_count": 15,
   "metadata": {
    "id": "gFbmqwZRGacp"
   },
   "outputs": [],
   "source": [
    "X_train=scaler.fit_transform(X_train)\n",
    "X_test=scaler.transform(X_test)"
   ]
  },
  {
   "cell_type": "code",
   "execution_count": 16,
   "metadata": {
    "id": "M_1p8UbpGacp",
    "outputId": "4008c3e8-8824-429e-c8b4-a6882547b18b"
   },
   "outputs": [
    {
     "name": "stdout",
     "output_type": "stream",
     "text": [
      "shape of X (train) : (14599, 13)\n",
      "shape of X (test) : (3650, 13)\n"
     ]
    }
   ],
   "source": [
    "print('shape of X (train) :',X_train.shape)\n",
    "print('shape of X (test) :',X_test.shape)"
   ]
  },
  {
   "cell_type": "markdown",
   "metadata": {
    "id": "m19huqegGacp"
   },
   "source": [
    "Now we have found that every single  column is useful for predicting the data"
   ]
  },
  {
   "cell_type": "markdown",
   "metadata": {
    "id": "Ik4zbVEesul0"
   },
   "source": [
    "#### Scaling"
   ]
  },
  {
   "cell_type": "code",
   "execution_count": 17,
   "metadata": {
    "id": "IynaNKktIzGd",
    "outputId": "e2789fbb-4dfe-466d-ccd4-78a657dfac51"
   },
   "outputs": [
    {
     "data": {
      "text/plain": [
       "[<matplotlib.lines.Line2D at 0x1bcb62b9860>]"
      ]
     },
     "execution_count": 17,
     "metadata": {},
     "output_type": "execute_result"
    },
    {
     "data": {
      "image/png": "[encoded data removed]",
      "text/plain": [
       "<Figure size 432x288 with 1 Axes>"
      ]
     },
     "metadata": {
      "needs_background": "light"
     },
     "output_type": "display_data"
    }
   ],
   "source": [
    "plt.plot(X_train[0])"
   ]
  },
  {
   "cell_type": "markdown",
   "metadata": {
    "id": "FNr15cj2I54U"
   },
   "source": [
    "This graph shows that the every single feature has different value ranges. So we need to scale the data for better performances."
   ]
  },
  {
   "cell_type": "code",
   "execution_count": 18,
   "metadata": {
    "id": "i673ia6BJHdE"
   },
   "outputs": [],
   "source": [
    "scaler=StandardScaler()\n"
   ]
  },
  {
   "cell_type": "code",
   "execution_count": 19,
   "metadata": {
    "id": "f6mssFvJJKxt"
   },
   "outputs": [],
   "source": [
    "X_train=scaler.fit_transform(X_train)\n",
    "X_test=scaler.transform(X_test)"
   ]
  },
  {
   "cell_type": "code",
   "execution_count": 20,
   "metadata": {
    "id": "i_-TSIupGacq",
    "outputId": "135b3d55-50d6-4b05-d908-bf1c1015cf15"
   },
   "outputs": [
    {
     "name": "stdout",
     "output_type": "stream",
     "text": [
      "Type of X_train : <class 'numpy.ndarray'>\n",
      "Type of X_test : <class 'numpy.ndarray'>\n"
     ]
    }
   ],
   "source": [
    "print(\"Type of X_train :\",type(X_train))\n",
    "print(\"Type of X_test :\",type(X_test))"
   ]
  },
  {
   "cell_type": "code",
   "execution_count": 21,
   "metadata": {
    "id": "cjwQFhVgGacq",
    "outputId": "402e9533-33b4-4fed-9245-2044391971cc"
   },
   "outputs": [
    {
     "data": {
      "text/html": [
       "<div>\n",
       "<style scoped>\n",
       "    .dataframe tbody tr th:only-of-type {\n",
       "        vertical-align: middle;\n",
       "    }\n",
       "\n",
       "    .dataframe tbody tr th {\n",
       "        vertical-align: top;\n",
       "    }\n",
       "\n",
       "    .dataframe thead th {\n",
       "        text-align: right;\n",
       "    }\n",
       "</style>\n",
       "<table border=\"1\" class=\"dataframe\">\n",
       "  <thead>\n",
       "    <tr style=\"text-align: right;\">\n",
       "      <th></th>\n",
       "      <th>Unnamed: 0</th>\n",
       "      <th>Date</th>\n",
       "      <th>Total Volume</th>\n",
       "      <th>4046</th>\n",
       "      <th>4225</th>\n",
       "      <th>4770</th>\n",
       "      <th>Total Bags</th>\n",
       "      <th>Small Bags</th>\n",
       "      <th>Large Bags</th>\n",
       "      <th>XLarge Bags</th>\n",
       "      <th>type</th>\n",
       "      <th>year</th>\n",
       "      <th>region</th>\n",
       "    </tr>\n",
       "  </thead>\n",
       "  <tbody>\n",
       "    <tr>\n",
       "      <th>0</th>\n",
       "      <td>-1.369115</td>\n",
       "      <td>-0.735660</td>\n",
       "      <td>-0.244631</td>\n",
       "      <td>-0.229176</td>\n",
       "      <td>-0.242334</td>\n",
       "      <td>-0.214369</td>\n",
       "      <td>-0.242536</td>\n",
       "      <td>-0.245279</td>\n",
       "      <td>-0.216549</td>\n",
       "      <td>-0.177445</td>\n",
       "      <td>1.007080</td>\n",
       "      <td>-1.218764</td>\n",
       "      <td>-1.634131</td>\n",
       "    </tr>\n",
       "    <tr>\n",
       "      <th>1</th>\n",
       "      <td>0.046012</td>\n",
       "      <td>-1.185734</td>\n",
       "      <td>-0.189818</td>\n",
       "      <td>-0.226356</td>\n",
       "      <td>-0.143668</td>\n",
       "      <td>-0.085100</td>\n",
       "      <td>-0.188836</td>\n",
       "      <td>-0.203317</td>\n",
       "      <td>-0.133165</td>\n",
       "      <td>-0.107003</td>\n",
       "      <td>-0.992969</td>\n",
       "      <td>-1.218764</td>\n",
       "      <td>-0.479388</td>\n",
       "    </tr>\n",
       "    <tr>\n",
       "      <th>2</th>\n",
       "      <td>1.010872</td>\n",
       "      <td>-0.428790</td>\n",
       "      <td>0.061641</td>\n",
       "      <td>-0.146391</td>\n",
       "      <td>0.051818</td>\n",
       "      <td>-0.124087</td>\n",
       "      <td>0.358279</td>\n",
       "      <td>0.102441</td>\n",
       "      <td>1.144522</td>\n",
       "      <td>-0.177445</td>\n",
       "      <td>1.007080</td>\n",
       "      <td>-0.158916</td>\n",
       "      <td>1.573490</td>\n",
       "    </tr>\n",
       "    <tr>\n",
       "      <th>3</th>\n",
       "      <td>-0.532903</td>\n",
       "      <td>1.146472</td>\n",
       "      <td>-0.243018</td>\n",
       "      <td>-0.230010</td>\n",
       "      <td>-0.240243</td>\n",
       "      <td>-0.214369</td>\n",
       "      <td>-0.238336</td>\n",
       "      <td>-0.242477</td>\n",
       "      <td>-0.208167</td>\n",
       "      <td>-0.177445</td>\n",
       "      <td>1.007080</td>\n",
       "      <td>0.900933</td>\n",
       "      <td>-1.120912</td>\n",
       "    </tr>\n",
       "    <tr>\n",
       "      <th>4</th>\n",
       "      <td>-0.918847</td>\n",
       "      <td>1.514715</td>\n",
       "      <td>-0.241159</td>\n",
       "      <td>-0.229041</td>\n",
       "      <td>-0.241291</td>\n",
       "      <td>-0.207405</td>\n",
       "      <td>-0.232473</td>\n",
       "      <td>-0.230435</td>\n",
       "      <td>-0.221276</td>\n",
       "      <td>-0.177445</td>\n",
       "      <td>1.007080</td>\n",
       "      <td>1.960781</td>\n",
       "      <td>1.701795</td>\n",
       "    </tr>\n",
       "  </tbody>\n",
       "</table>\n",
       "</div>"
      ],
      "text/plain": [
       "   Unnamed: 0      Date  Total Volume      4046      4225      4770  \\\n",
       "0   -1.369115 -0.735660     -0.244631 -0.229176 -0.242334 -0.214369   \n",
       "1    0.046012 -1.185734     -0.189818 -0.226356 -0.143668 -0.085100   \n",
       "2    1.010872 -0.428790      0.061641 -0.146391  0.051818 -0.124087   \n",
       "3   -0.532903  1.146472     -0.243018 -0.230010 -0.240243 -0.214369   \n",
       "4   -0.918847  1.514715     -0.241159 -0.229041 -0.241291 -0.207405   \n",
       "\n",
       "   Total Bags  Small Bags  Large Bags  XLarge Bags      type      year  \\\n",
       "0   -0.242536   -0.245279   -0.216549    -0.177445  1.007080 -1.218764   \n",
       "1   -0.188836   -0.203317   -0.133165    -0.107003 -0.992969 -1.218764   \n",
       "2    0.358279    0.102441    1.144522    -0.177445  1.007080 -0.158916   \n",
       "3   -0.238336   -0.242477   -0.208167    -0.177445  1.007080  0.900933   \n",
       "4   -0.232473   -0.230435   -0.221276    -0.177445  1.007080  1.960781   \n",
       "\n",
       "     region  \n",
       "0 -1.634131  \n",
       "1 -0.479388  \n",
       "2  1.573490  \n",
       "3 -1.120912  \n",
       "4  1.701795  "
      ]
     },
     "execution_count": 21,
     "metadata": {},
     "output_type": "execute_result"
    }
   ],
   "source": [
    "X_train=pd.DataFrame(X_train,columns=cols)\n",
    "X_train.head()\n",
    "X_test=pd.DataFrame(X_test,columns=cols)\n",
    "X_test.head()"
   ]
  },
  {
   "cell_type": "code",
   "execution_count": 22,
   "metadata": {
    "id": "1_Ucw8ExLrt-",
    "outputId": "bb172be5-6bfc-4dc2-e954-9e5cc54eaae4"
   },
   "outputs": [
    {
     "name": "stdout",
     "output_type": "stream",
     "text": [
      "Type of X_train and X_test : <class 'pandas.core.frame.DataFrame'> <class 'pandas.core.frame.DataFrame'>\n"
     ]
    }
   ],
   "source": [
    "print('Type of X_train and X_test :',type(X_train),type(X_test))"
   ]
  },
  {
   "cell_type": "markdown",
   "metadata": {
    "id": "8WqH9BHQGacq"
   },
   "source": [
    "Now we can start the prediction."
   ]
  },
  {
   "cell_type": "code",
   "execution_count": 23,
   "metadata": {
    "id": "qc-_u6nMhfeX"
   },
   "outputs": [],
   "source": [
    "actr=[]\n",
    "acts=[]\n",
    "lstr=[]\n",
    "lsts=[]"
   ]
  },
  {
   "cell_type": "markdown",
   "metadata": {
    "id": "73x6GuXRGacr"
   },
   "source": [
    "### Polynomial Regression"
   ]
  },
  {
   "cell_type": "code",
   "execution_count": 24,
   "metadata": {
    "id": "zC1c98ErGacr"
   },
   "outputs": [],
   "source": [
    "loss=[]\n",
    "val_loss=[]"
   ]
  },
  {
   "cell_type": "code",
   "execution_count": 25,
   "metadata": {
    "id": "gdajtrQZKyGP"
   },
   "outputs": [],
   "source": [
    "for i in range(2,5):\n",
    "  clf=make_pipeline(PolynomialFeatures(i),LinearRegression())\n",
    "  clf.fit(X_train,y_train)\n",
    "  y_pr=clf.predict(X_test)\n",
    "  y_x=clf.predict(X_train)\n",
    "  loss.append(mean_squared_error(y_train,y_x))\n",
    "  val_loss.append(mean_squared_error(y_test,y_pr))"
   ]
  },
  {
   "cell_type": "code",
   "execution_count": 26,
   "metadata": {
    "id": "vrOkVk44Gacr",
    "outputId": "9049dda6-db25-49c9-f5e3-b457f61286c2"
   },
   "outputs": [
    {
     "data": {
      "image/png": "[encoded data removed]",
      "text/plain": [
       "<Figure size 432x288 with 1 Axes>"
      ]
     },
     "metadata": {
      "needs_background": "light"
     },
     "output_type": "display_data"
    }
   ],
   "source": [
    "plt.title('Model Loss')\n",
    "plt.xlabel('degree')\n",
    "plt.ylabel('MSE loss')\n",
    "plt.plot(range(2,5),loss/np.mean(loss),label='train loss')\n",
    "plt.plot(range(2,5),val_loss/np.mean(val_loss),label='validation loss')\n",
    "plt.legend()\n",
    "plt.show()"
   ]
  },
  {
   "cell_type": "code",
   "execution_count": 27,
   "metadata": {
    "id": "VQjSNIvoRLzX",
    "outputId": "f02d722f-2c6c-413c-a63f-6eb9c4806dc8"
   },
   "outputs": [
    {
     "name": "stdout",
     "output_type": "stream",
     "text": [
      "Train loss and validation loss of the polynomial function model : 0.059414527055949254 and 0.08888788356086554\n"
     ]
    }
   ],
   "source": [
    "print('Train loss and validation loss of the polynomial function model :',loss[1],'and',val_loss[1])"
   ]
  },
  {
   "cell_type": "code",
   "execution_count": 28,
   "metadata": {
    "id": "9Jqgbj3aR3nt",
    "outputId": "7e369bdf-85b3-46c3-9a11-b4e6f964fead"
   },
   "outputs": [
    {
     "name": "stdout",
     "output_type": "stream",
     "text": [
      "train accuracy : 0.6330650765627859\n",
      "test accuracy : 0.45429578868522197\n"
     ]
    }
   ],
   "source": [
    "clf=make_pipeline(PolynomialFeatures(3),LinearRegression())\n",
    "clf.fit(X_train,y_train)\n",
    "print('train accuracy :',clf.score(X_train,y_train))\n",
    "print('test accuracy :',clf.score(X_test,y_test))"
   ]
  },
  {
   "cell_type": "markdown",
   "metadata": {},
   "source": [
    "## Linear Regression"
   ]
  },
  {
   "cell_type": "code",
   "execution_count": 29,
   "metadata": {
    "id": "yuG7YLH7hw9Q"
   },
   "outputs": [],
   "source": [
    "actr.append(clf.score(X_train,y_train))\n",
    "acts.append(clf.score(X_test,y_test))\n",
    "lstr.append(loss[1])\n",
    "lsts.append(val_loss[1])"
   ]
  },
  {
   "cell_type": "code",
   "execution_count": 30,
   "metadata": {},
   "outputs": [],
   "source": [
    "from sklearn.linear_model import LinearRegression"
   ]
  },
  {
   "cell_type": "code",
   "execution_count": 31,
   "metadata": {},
   "outputs": [],
   "source": [
    "lm=LinearRegression()"
   ]
  },
  {
   "cell_type": "code",
   "execution_count": 32,
   "metadata": {},
   "outputs": [
    {
     "data": {
      "text/plain": [
       "LinearRegression(copy_X=True, fit_intercept=True, n_jobs=None, normalize=False)"
      ]
     },
     "execution_count": 32,
     "metadata": {},
     "output_type": "execute_result"
    }
   ],
   "source": [
    "lm.fit(X_train,y_train)"
   ]
  },
  {
   "cell_type": "code",
   "execution_count": 33,
   "metadata": {},
   "outputs": [],
   "source": [
    "y_tr1 = lm.predict(X_train)"
   ]
  },
  {
   "cell_type": "code",
   "execution_count": 34,
   "metadata": {},
   "outputs": [],
   "source": [
    "y_pr=lm.predict(X_test)"
   ]
  },
  {
   "cell_type": "code",
   "execution_count": 35,
   "metadata": {},
   "outputs": [
    {
     "name": "stdout",
     "output_type": "stream",
     "text": [
      "train data accuracy : 0.44070827868644286\n",
      "test data accuracy : 0.4506438884292138\n",
      "loss of train data : 0.09056116217250366\n",
      "loss of test data : 0.08948272904309088\n"
     ]
    }
   ],
   "source": [
    "print('train data accuracy :',lm.score(X_train,y_train))\n",
    "print('test data accuracy :',lm.score(X_test,y_test))\n",
    "print('loss of train data :',mean_squared_error(y_train,y_tr1))\n",
    "print('loss of test data :',mean_squared_error(y_test,y_pr))"
   ]
  },
  {
   "cell_type": "code",
   "execution_count": 36,
   "metadata": {},
   "outputs": [],
   "source": [
    "actr.append(lm.score(X_train,y_train))\n",
    "acts.append(lm.score(X_test,y_test))\n",
    "lstr.append(mean_squared_error(y_train,y_tr1))\n",
    "lsts.append(mean_squared_error(y_test,y_pr))"
   ]
  },
  {
   "cell_type": "markdown",
   "metadata": {
    "id": "WiM9-tL3QmOf"
   },
   "source": [
    "### Random Forest Regression"
   ]
  },
  {
   "cell_type": "code",
   "execution_count": 37,
   "metadata": {
    "id": "jEGAg3vwQlhF"
   },
   "outputs": [],
   "source": [
    "clf=RandomForestRegressor(random_state=0)"
   ]
  },
  {
   "cell_type": "code",
   "execution_count": 38,
   "metadata": {
    "id": "V2bHNSb1UBlu",
    "outputId": "f8e40093-65c8-4064-a4a6-b4a621cc15d6"
   },
   "outputs": [
    {
     "name": "stdout",
     "output_type": "stream",
     "text": [
      "train data accuracy : 0.9870696087994129\n",
      "test data accuracy : 0.9043277549814706\n",
      "loss of train data : 0.002093703893417357\n",
      "loss of test data : 0.01558372319452054\n"
     ]
    }
   ],
   "source": [
    "clf.fit(X_train,y_train)\n",
    "y_tr1=clf.predict(X_train)\n",
    "y_pr=clf.predict(X_test)\n",
    "\n",
    "print('train data accuracy :',clf.score(X_train,y_train))\n",
    "print('test data accuracy :',clf.score(X_test,y_test))\n",
    "print('loss of train data :',mean_squared_error(y_train,y_tr1))\n",
    "print('loss of test data :',mean_squared_error(y_test,y_pr))"
   ]
  },
  {
   "cell_type": "markdown",
   "metadata": {
    "id": "vmhjmeJ4cn26"
   },
   "source": [
    "So we can see the RFR really predicts the model very well and gives a quite accurate prediction."
   ]
  },
  {
   "cell_type": "code",
   "execution_count": 39,
   "metadata": {
    "id": "ka8WmtDriKre"
   },
   "outputs": [],
   "source": [
    "actr.append(clf.score(X_train,y_train))\n",
    "acts.append(clf.score(X_test,y_test))\n",
    "lstr.append(mean_squared_error(y_train,y_tr1))\n",
    "lsts.append(mean_squared_error(y_test,y_pr))"
   ]
  },
  {
   "cell_type": "markdown",
   "metadata": {
    "id": "nNF3_sANm_MS"
   },
   "source": [
    "# Model Evaluation & Conclusion"
   ]
  },
  {
   "cell_type": "code",
   "execution_count": 42,
   "metadata": {
    "id": "3DpOqRn-nCum"
   },
   "outputs": [],
   "source": [
    "models=['Polynomial','Random Forest','Linear Regression']"
   ]
  },
  {
   "cell_type": "code",
   "execution_count": 43,
   "metadata": {
    "id": "nCcInuXtnNMd",
    "outputId": "b1fc50c3-777f-4db1-94cb-ae23e332838a"
   },
   "outputs": [
    {
     "data": {
      "image/png": "[encoded data removed]",
      "text/plain": [
       "<Figure size 432x288 with 1 Axes>"
      ]
     },
     "metadata": {
      "needs_background": "light"
     },
     "output_type": "display_data"
    },
    {
     "data": {
      "image/png": "[encoded data removed]",
      "text/plain": [
       "<Figure size 432x288 with 1 Axes>"
      ]
     },
     "metadata": {
      "needs_background": "light"
     },
     "output_type": "display_data"
    }
   ],
   "source": [
    "plt.title('Model Accuracy')\n",
    "plt.plot(models,actr,label='train data')\n",
    "plt.plot(models,acts,label='validation data')\n",
    "plt.legend()\n",
    "plt.show()\n",
    "\n",
    "plt.title('Model Loss')\n",
    "plt.plot(models,lstr,label='train data')\n",
    "plt.plot(models,lsts,label='validation data')\n",
    "plt.legend()\n",
    "plt.show()"
   ]
  },
  {
   "cell_type": "markdown",
   "metadata": {
    "id": "1H2hzencpS0R"
   },
   "source": [
    "So, after visualizing , we have found that ,\n",
    "\n",
    "                  Model performance :\n",
    "                           Random Forest > Linear Regression > Polynomial Regression "
   ]
  }
 ],
 "metadata": {
  "kernelspec": {
   "display_name": "Python 3",
   "language": "python",
   "name": "python3"
  },
  "language_info": {
   "codemirror_mode": {
    "name": "ipython",
    "version": 3
   },
   "file_extension": ".py",
   "mimetype": "text/x-python",
   "name": "python",
   "nbconvert_exporter": "python",
   "pygments_lexer": "ipython3",
   "version": "3.7.3"
  }
 },
 "nbformat": 4,
 "nbformat_minor": 4
}
